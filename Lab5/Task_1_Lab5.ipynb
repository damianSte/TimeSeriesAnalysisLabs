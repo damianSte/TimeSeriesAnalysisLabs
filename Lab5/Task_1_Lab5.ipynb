{
 "cells": [
  {
   "cell_type": "markdown",
   "id": "903ce67aefcb1718",
   "metadata": {
    "collapsed": false
   },
   "source": [
    "# 1 Correlations in AR models"
   ]
  },
  {
   "cell_type": "code",
   "execution_count": null,
   "id": "initial_id",
   "metadata": {
    "collapsed": true,
    "jupyter": {
     "outputs_hidden": true
    }
   },
   "outputs": [],
   "source": [
    "import numpy as np\n",
    "import statsmodels.api as sm\n",
    "import matplotlib.pyplot as plt\n",
    "from statsmodels.graphics.tsaplots import plot_acf, plot_pacf"
   ]
  },
  {
   "cell_type": "markdown",
   "id": "8dad38ccdc6368a9",
   "metadata": {
    "collapsed": false
   },
   "source": [
    "# Getting AR model \n",
    "\n",
    "**Generate white noise:** \n",
    "White noise is a sequence of random variables drawn from normal distribution with mean zero and variance one.\n",
    "\n",
    "**Initialize the time series with zeros:** \n",
    "Initializes time series with zeros\n",
    "\n",
    "**Set initial values:** \n",
    "It sets initial values of the time series. Since AR-model of order 'p' requires the previous 'p' values to generate the next value, the initial 'p' values are set \n",
    "randomly with constant term 'c'\n",
    "\n",
    "**Generate values for the AR(p) process:**\n",
    "Using the formula:\n",
    "**yt[i] = c + phi * yt[i - 1] + eps[i]**,\n",
    "the function computes values for the autoregressive process. Each value is dependent on the previous 'p' values and white noise.\n"
   ]
  },
  {
   "cell_type": "code",
   "execution_count": null,
   "id": "2a12d037b86a8e3b",
   "metadata": {
    "collapsed": false
   },
   "outputs": [],
   "source": [
    "def get_ar_model(c, p, n, phi, burnin=0):\n",
    "    \"\"\"\n",
    "        Function get_ar_model generates values for an autoregressive (AR) time series\n",
    "    model of order p\n",
    "            Arguments:\n",
    "                - c-- parameter represents the constant term of the AR model\n",
    "                - p-- parameter denotes the order of autoregressive model\n",
    "                - n-- number of values to generate\n",
    "                - phi-- parameter represents the autoregressive coefficient\n",
    "                - burnin -- number of initial values to discard\n",
    "\n",
    "        Returns generated values for the AR model \n",
    "    \"\"\"\n",
    "    \n",
    "    # Generate white noise\n",
    "    np.random.seed(0)\n",
    "    eps = np.random.normal(size=n + burnin)\n",
    "\n",
    "    # Initialize the time series with zeros\n",
    "    yt = np.zeros(n + burnin)\n",
    "\n",
    "    # Set initial values\n",
    "    for i in range(p):\n",
    "        yt[i] = c + eps[i]\n",
    "        \n",
    "    #print(\"Setting initial 'p' value\\n\", yt, \"\\n\" )\n",
    "\n",
    "    # Generate values for the AR(p) process\n",
    "    for i in range(p, n + burnin):\n",
    "        yt[i] = c + phi * yt[i - 1] + eps[i]\n",
    "        \n",
    "    #print(\"Setting other values of time series\\n\",yt)\n",
    "        \n",
    "    return yt[burnin:]"
   ]
  },
  {
   "cell_type": "code",
   "execution_count": null,
   "id": "b2fdb3865b9a927d",
   "metadata": {
    "collapsed": false
   },
   "outputs": [],
   "source": [
    "def plot_acf_pacf(data, lags=40):\n",
    "    fig, ax = plt.subplots(2, figsize=(10, 6))\n",
    "    sm.graphics.tsa.plot_acf(data, lags=lags, ax=ax[0], zero= False)\n",
    "    sm.graphics.tsa.plot_pacf(data, lags=lags, ax=ax[1], zero= False)\n",
    "    ax[0].set_title('Autocorrection Function (ACF)')\n",
    "    ax[1].set_title('Partial Autocorrection Function (PACF)')\n",
    "    plt.tight_layout()\n",
    "    plt.show()\n"
   ]
  },
  {
   "cell_type": "code",
   "execution_count": null,
   "id": "1e33e4f0019140a9",
   "metadata": {
    "collapsed": false
   },
   "outputs": [],
   "source": [
    "n = 5000\n",
    "yt_ar1 = get_ar_model(c=18, p=1, n=n, phi=0.6)\n"
   ]
  },
  {
   "cell_type": "code",
   "execution_count": null,
   "id": "80e0dae2489c764e",
   "metadata": {
    "collapsed": false
   },
   "outputs": [],
   "source": [
    "def calculate_acf_pacf(data, lags=40):\n",
    "    acf_values = sm.tsa.acf(data, nlags=lags)\n",
    "    pacf_values = sm.tsa.pacf(data, nlags=lags)\n",
    "    return acf_values, pacf_values\n",
    "\n",
    "calculate_acf_pacf(yt_ar1)"
   ]
  },
  {
   "cell_type": "code",
   "execution_count": null,
   "id": "69cff47aab3c493a",
   "metadata": {
    "collapsed": false
   },
   "outputs": [],
   "source": [
    "plot_acf_pacf(yt_ar1)"
   ]
  },
  {
   "cell_type": "code",
   "execution_count": null,
   "id": "648b51a3829f5ecd",
   "metadata": {
    "collapsed": false
   },
   "outputs": [],
   "source": [
    "phis = [-0.7, -0.8, -0.9]\n",
    "for phi in phis:\n",
    "    yt_ar1 = get_ar_model(c= 18, p=1, n=n, phi=phi)\n",
    "    print(f\"For phi = {phi}:\")\n",
    "    plot_acf_pacf(yt_ar1)"
   ]
  },
  {
   "cell_type": "code",
   "execution_count": null,
   "id": "f420174bb518be06",
   "metadata": {
    "collapsed": false
   },
   "outputs": [],
   "source": [
    "from statsmodels.stats.diagnostic import acorr_ljungbox\n",
    "from statsmodels.tsa.stattools import adfuller, kpss"
   ]
  },
  {
   "cell_type": "code",
   "execution_count": null,
   "id": "14abc11fbd8fca0a",
   "metadata": {
    "collapsed": false
   },
   "outputs": [],
   "source": [
    "import warnings\n",
    "warnings.filterwarnings(\"ignore\")"
   ]
  },
  {
   "cell_type": "markdown",
   "source": [],
   "metadata": {
    "collapsed": false
   },
   "id": "e6c4e7a038e09fd8"
  },
  {
   "cell_type": "markdown",
   "id": "6ad3f4c9a7f16970",
   "metadata": {
    "collapsed": false
   },
   "source": [
    "# Are time series stationary or non-stationary?\n",
    "\n",
    "***Augmented Dickey-Fuller (ADF) Test:***\n",
    "\n",
    "> - Null Hypothesis (H0): The time series has a unit root, indicating it is non-stationary.\n",
    "> - Alternative Hypothesis (H1): The time series does not have a unit root, indicating it is stationary.\n",
    "> - If the p-value obtained from the test is less than a chosen significance level (typically 0.05), we reject the null hypothesis. In other words, if p-value < 0.05, we can consider the series as stationary; otherwise, we fail to reject the null hypothesis, suggesting that the series is non-stationary.\n",
    "Example interpretation:\n",
    "\n",
    " - If adf_result[1] < 0.05, then the series is likely stationary.\n",
    " - If adf_result[1] >= 0.05, then the series is likely non-stationary.\n",
    "\n",
    "***KPSS Test:***\n",
    "\n",
    "> - Null Hypothesis (H0): The time series is stationary around a deterministic trend.\n",
    "> - Alternative Hypothesis (H1): The time series has a unit root, indicating it is non-stationary.\n",
    "> - If the p-value obtained from the test is less than a chosen significance level (typically 0.05), we reject the null hypothesis. In other words, if p-value < 0.05, we consider the series as non-stationary; otherwise, we fail to reject the null hypothesis, suggesting that the series is stationary.\n",
    "Example interpretation:\n",
    "\n",
    " - If kpss_result[1] < 0.05, then the series is likely non-stationary.\n",
    " - If kpss_result[1] >= 0.05, then the series is likely stationary."
   ]
  },
  {
   "cell_type": "code",
   "execution_count": null,
   "id": "37b5da863f078ce8",
   "metadata": {
    "collapsed": false
   },
   "outputs": [],
   "source": [
    "phis = [-0.7, -0.8, -0.9, 1]\n",
    "\n",
    "for phi in phis:\n",
    "    model = get_ar_model(c=18, p=1, n=n, phi=phi)\n",
    "    ljung_box = acorr_ljungbox(model, lags=[40], return_df=True)\n",
    "    adf_result = adfuller(model)\n",
    "    kpss_result = kpss(model)\n",
    "    \n",
    "    if adf_result[1] < 0.05 or kpss_result[1] > 0.05:\n",
    "        print(\"The time series for phi =\", phi, \"is stationary.\")\n",
    "    else:\n",
    "        print(\"The time series for phi =\", phi, \"is non-stationary.\")\n",
    "\n",
    "    \n",
    "    "
   ]
  },
  {
   "cell_type": "markdown",
   "id": "2240900ebcefa22e",
   "metadata": {
    "collapsed": false
   },
   "source": [
    "****When phi>=1 then our series is non-stationary****"
   ]
  },
  {
   "cell_type": "markdown",
   "id": "f70e0f74979dd756",
   "metadata": {
    "collapsed": false
   },
   "source": [
    "# 2 Correlations in MA models"
   ]
  },
  {
   "cell_type": "code",
   "execution_count": null,
   "id": "adef200c90cecfd6",
   "metadata": {
    "collapsed": false
   },
   "outputs": [],
   "source": [
    "def get_ma_model1(c, n, q, theta, burnin=0):\n",
    "    \"\"\"\n",
    "    Generate a moving average (MA) model for a given time series data.\n",
    "\n",
    "    Parameters:\n",
    "    - c: Constant term.\n",
    "    - n: Number of time steps.\n",
    "    - q: The order of the moving average model.\n",
    "    - theta: Numpy array representing the random noise.\n",
    "    - burnin: Number of initial values to discard.\n",
    "\n",
    "    Returns:\n",
    "    - ma_model: A numpy array representing the moving average model.\n",
    "    \"\"\"\n",
    "    np.random.seed(0)\n",
    "    eps = np.random.normal(size=n + burnin)\n",
    "    ma_model = np.zeros(n + burnin)\n",
    "\n",
    "    for t in range(q, n + burnin):\n",
    "        ma_model[t] = c + np.mean(theta * eps[t - q])\n",
    "\n",
    "    return ma_model[burnin:]\n"
   ]
  },
  {
   "cell_type": "code",
   "execution_count": null,
   "id": "3b02598f8402d8cf",
   "metadata": {
    "collapsed": false
   },
   "outputs": [],
   "source": [
    "def get_ma_model2(n, q, theta, burnin=0):\n",
    "    \"\"\"\n",
    "    Generate a moving average (MA) model for a given time series data.\n",
    "\n",
    "    Parameters:\n",
    "    - c: Constant term.\n",
    "    - n: Number of time steps.\n",
    "    - q: The order of the moving average model.\n",
    "    - theta: Numpy array representing the random noise.\n",
    "    - burnin: Number of initial values to discard.\n",
    "\n",
    "    Returns:\n",
    "    - ma_model: A numpy array representing the moving average model.\n",
    "    \"\"\"\n",
    "    np.random.seed(0)\n",
    "    eps = np.random.normal(size=n + burnin)\n",
    "    ma_model = np.zeros(n + burnin)\n",
    "\n",
    "    for t in range(q, n + burnin):\n",
    "        ma_model[t] =eps[t]-eps[t - q] + np.mean(theta * eps[t - q])\n",
    "\n",
    "    return ma_model[burnin:]"
   ]
  },
  {
   "cell_type": "code",
   "execution_count": null,
   "id": "17a928eaab09a659",
   "metadata": {
    "collapsed": false
   },
   "outputs": [],
   "source": [
    "# Generate MA(1) model\n",
    "ma1_data = get_ma_model1(20, 5000, 1, 0.8)\n",
    "\n",
    "# Generate MA(2) model\n",
    "ma2_data2 = get_ma_model2(5000, 1, 0.8)\n",
    "# Plot MA(1) and MA(2) time series\n",
    "fig, ax = plt.subplots(2, figsize=(12, 6))\n",
    "ax[0].plot(ma1_data)\n",
    "ax[0].set_title('MA(1) Model (y(t) = 20 + ϵ(t) + 0.8ϵ(t-1))')\n",
    "ax[1].plot(ma2_data2)\n",
    "ax[1].set_title('MA(2) Model (yt=εt−εt−1+ 0.8εt−2)')\n",
    "plt.tight_layout()\n",
    "plt.show()"
   ]
  },
  {
   "cell_type": "code",
   "execution_count": null,
   "id": "8d285ec1a59bc22e",
   "metadata": {
    "collapsed": false
   },
   "outputs": [],
   "source": [
    "# Calculate ACF and PACF for MA(1) model\n",
    "fig, ax = plt.subplots(2, 2, figsize=(12, 6))\n",
    "plot_acf(ma1_data, lags=30, title='ACF for MA(1) Model', ax=ax[0, 0], zero=False)\n",
    "plot_pacf(ma1_data, lags=30, title='PACF for MA(1) Model', ax=ax[1, 0], zero=False)\n",
    "plot_acf(ma2_data2, lags=30, title='ACF for MA(2) Model', ax=ax[0, 1], zero=False)\n",
    "plot_pacf(ma2_data2, lags=30, title='PACF for MA(2) Model', ax=ax[1, 1], zero=False)\n",
    "plt.tight_layout()\n",
    "plt.show()"
   ]
  },
  {
   "cell_type": "code",
   "execution_count": null,
   "id": "ee396e7fa1a6e686",
   "metadata": {
    "collapsed": false
   },
   "outputs": [],
   "source": [
    "fig, ax = plt.subplots(2, 3, figsize=(12, 6))\n",
    "ar_model = get_ar_model(c=18, p=1, n=n, phi=0.6)\n",
    "plot_acf(ma1_data, lags=30, title='ACF for MA(1) Model', ax=ax[0, 0], zero=False)\n",
    "plot_pacf(ma1_data, lags=30, title='PACF for MA(1) Model', ax=ax[1, 0], zero=False)\n",
    "plot_acf(ma2_data2, lags=30, title='ACF for MA(2) Model', ax=ax[0, 1], zero=False)\n",
    "plot_pacf(ma2_data2, lags=30, title='PACF for MA(2) Model', ax=ax[1, 1], zero=False)\n",
    "sm.graphics.tsa.plot_acf(ar_model, lags=40,title='Autocorrection Function (ACF)', ax=ax[0,2], zero= False)\n",
    "sm.graphics.tsa.plot_pacf(ar_model, lags=40,title='Partial Autocorrection Function (PACF)', ax=ax[1,2], zero= False)\n",
    "\n",
    "plt.tight_layout()\n",
    "plt.show()"
   ]
  },
  {
   "cell_type": "code",
   "execution_count": null,
   "id": "ab8f76fa7d7d6dc3",
   "metadata": {
    "collapsed": false
   },
   "outputs": [],
   "source": []
  }
 ],
 "metadata": {
  "kernelspec": {
   "display_name": "Python 3 (ipykernel)",
   "language": "python",
   "name": "python3"
  },
  "language_info": {
   "codemirror_mode": {
    "name": "ipython",
    "version": 3
   },
   "file_extension": ".py",
   "mimetype": "text/x-python",
   "name": "python",
   "nbconvert_exporter": "python",
   "pygments_lexer": "ipython3",
   "version": "3.12.0"
  }
 },
 "nbformat": 4,
 "nbformat_minor": 5
}
