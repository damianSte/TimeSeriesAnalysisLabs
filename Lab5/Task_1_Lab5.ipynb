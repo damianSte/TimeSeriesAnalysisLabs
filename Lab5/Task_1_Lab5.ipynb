{
 "cells": [
  {
   "cell_type": "code",
   "outputs": [],
   "source": [
    "import numpy as np\n",
    "import statsmodels.api as sm\n",
    "import matplotlib.pyplot as plt"
   ],
   "metadata": {
    "collapsed": false
   },
   "id": "920ec0c25c6f38b7"
  },
  {
   "cell_type": "markdown",
   "source": [
    "# Getting AR model \n",
    "\n",
    "**Generate white noise:** \n",
    "White noise is a sequence of random variables drawn from normal distribution with mean zero and variance one.\n",
    "\n",
    "**Initialize the time series with zeros:** \n",
    "Initializes time series with zeros\n",
    "\n",
    "**Set initial values:** \n",
    "It sets initial values of the time series. Since AR-model of order 'p' requires the previous 'p' values to generate the next value, the initial 'p' values are set \n",
    "randomly with constant term 'c'\n",
    "\n",
    "**Generate values for the AR(p) process:**\n",
    "Using the formula:\n",
    "**yt[i] = c + phi * yt[i - 1] + eps[i]**,\n",
    "the function computes values for the autoregressive process. Each value is dependent on the previous 'p' values and white noise.\n"
   ],
   "metadata": {
    "collapsed": false
   },
   "id": "2284e0f6ee3fdd0d"
  },
  {
   "cell_type": "code",
   "outputs": [],
   "source": [
    "def get_ar_model(c, p, n, phi, burnin=0):\n",
    "    \"\"\"\n",
    "        Function get_ar_model generates values for an autoregressive (AR) time series\n",
    "    model of order p\n",
    "            Arguments:\n",
    "                - c-- parameter represents the constant term of the AR model\n",
    "                - p-- parameter denotes the order of autoregressive model\n",
    "                - n-- number of values to generate\n",
    "                - phi-- parameter represents the autoregressive coefficient\n",
    "                - burnin -- number of initial values to discard\n",
    "\n",
    "        Returns generated values for the AR model \n",
    "    \"\"\"\n",
    "    \n",
    "    # Generate white noise\n",
    "    np.random.seed(0)\n",
    "    eps = np.random.normal(size=n + burnin)\n",
    "\n",
    "    # Initialize the time series with zeros\n",
    "    yt = np.zeros(n + burnin)\n",
    "\n",
    "    # Set initial values\n",
    "    for i in range(p):\n",
    "        yt[i] = c + eps[i]\n",
    "        \n",
    "    #print(\"Setting initial 'p' value\\n\", yt, \"\\n\" )\n",
    "\n",
    "    # Generate values for the AR(p) process\n",
    "    for i in range(p, n + burnin):\n",
    "        yt[i] = c + phi * yt[i - 1] + eps[i]\n",
    "        \n",
    "    #print(\"Setting other values of time series\\n\",yt)\n",
    "        \n",
    "    return yt[burnin:]"
   ],
   "metadata": {
    "collapsed": false
   },
   "id": "63a7a06d985283db"
  },
  {
   "cell_type": "code",
   "outputs": [],
   "source": [
    "def plot_acf_pacf(data, lags=40):\n",
    "    fig, ax = plt.subplots(2, figsize=(10, 6))\n",
    "    sm.graphics.tsa.plot_acf(data, lags=lags, ax=ax[0], zero= False)\n",
    "    sm.graphics.tsa.plot_pacf(data, lags=lags, ax=ax[1], zero= False)\n",
    "    ax[0].set_title('Autocorrection Function (ACF)')\n",
    "    ax[1].set_title('Partial Autocorrection Function (PACF)')\n",
    "    plt.tight_layout()\n",
    "    plt.show()\n"
   ],
   "metadata": {
    "collapsed": false
   },
   "id": "301b3458cb1a1969"
  },
  {
   "cell_type": "code",
   "outputs": [],
   "source": [
    "n = 5000\n",
    "yt_ar1 = get_ar_model(c=18, p=1, n=n, phi=0.6)"
   ],
   "metadata": {
    "collapsed": false
   },
   "id": "c46586473f1c9aa2"
  },
  {
   "cell_type": "code",
   "outputs": [],
   "source": [
    "def calculate_acf_pacf(data, lags=40):\n",
    "    acf_values = sm.tsa.acf(data, nlags=lags)\n",
    "    pacf_values = sm.tsa.pacf(data, nlags=lags)\n",
    "    return acf_values, pacf_values\n",
    "\n",
    "calculate_acf_pacf(yt_ar1)"
   ],
   "metadata": {
    "collapsed": false
   },
   "id": "a3def66df4288e8"
  },
  {
   "cell_type": "code",
   "outputs": [],
   "source": [
    "plot_acf_pacf(yt_ar1)"
   ],
   "metadata": {
    "collapsed": false
   },
   "id": "d4aa25c9923f7797"
  },
  {
   "cell_type": "code",
   "outputs": [],
   "source": [
    "phis = [-0.7, -0.8, -0.9]\n",
    "for phi in phis:\n",
    "    yt_ar1 = get_ar_model(c= 18, p=1, n=n, phi=phi)\n",
    "    print(f\"For phi = {phi}:\")\n",
    "    plot_acf_pacf(yt_ar1)"
   ],
   "metadata": {
    "collapsed": false
   },
   "id": "611d1bbb3f18e541"
  },
  {
   "cell_type": "code",
   "outputs": [],
   "source": [
    "from statsmodels.stats.diagnostic import acorr_ljungbox\n",
    "from statsmodels.tsa.stattools import adfuller, kpss"
   ],
   "metadata": {
    "collapsed": false
   },
   "id": "94d947d71d8f7787"
  },
  {
   "cell_type": "code",
   "outputs": [],
   "source": [
    "import warnings\n",
    "warnings.filterwarnings(\"ignore\")"
   ],
   "metadata": {
    "collapsed": false
   },
   "id": "befe93c6951bd811"
  },
  {
   "cell_type": "markdown",
   "source": [
    "# Are time series stationary or non-stationary?\n",
    "\n",
    "***Augmented Dickey-Fuller (ADF) Test:***\n",
    "\n",
    "> - Null Hypothesis (H0): The time series has a unit root, indicating it is non-stationary.\n",
    "> - Alternative Hypothesis (H1): The time series does not have a unit root, indicating it is stationary.\n",
    "> - If the p-value obtained from the test is less than a chosen significance level (typically 0.05), we reject the null hypothesis. In other words, if p-value < 0.05, we can consider the series as stationary; otherwise, we fail to reject the null hypothesis, suggesting that the series is non-stationary.\n",
    "Example interpretation:\n",
    "\n",
    " - If adf_result[1] < 0.05, then the series is likely stationary.\n",
    " - If adf_result[1] >= 0.05, then the series is likely non-stationary.\n",
    "\n",
    "***KPSS Test:***\n",
    "\n",
    "> - Null Hypothesis (H0): The time series is stationary around a deterministic trend.\n",
    "> - Alternative Hypothesis (H1): The time series has a unit root, indicating it is non-stationary.\n",
    "> - If the p-value obtained from the test is less than a chosen significance level (typically 0.05), we reject the null hypothesis. In other words, if p-value < 0.05, we consider the series as non-stationary; otherwise, we fail to reject the null hypothesis, suggesting that the series is stationary.\n",
    "Example interpretation:\n",
    "\n",
    " - If kpss_result[1] < 0.05, then the series is likely non-stationary.\n",
    " - If kpss_result[1] >= 0.05, then the series is likely stationary."
   ],
   "metadata": {
    "collapsed": false
   },
   "id": "c169f8cd92c9bf74"
  },
  {
   "cell_type": "code",
   "outputs": [],
   "source": [
    "phis = [-0.7, -0.8, -0.9, 1]\n",
    "\n",
    "for phi in phis:\n",
    "    model = get_ar_model(c=18, p=1, n=n, phi=phi)\n",
    "    ljung_box = acorr_ljungbox(model, lags=[40], return_df=True)\n",
    "    adf_result = adfuller(model)\n",
    "    kpss_result = kpss(model)\n",
    "    \n",
    "    if adf_result[1] < 0.05 or kpss_result[1] > 0.05:\n",
    "        print(\"The time series for phi =\", phi, \"is stationary.\")\n",
    "    else:\n",
    "        print(\"The time series for phi =\", phi, \"is non-stationary.\")\n",
    "\n",
    "    \n",
    "    "
   ],
   "metadata": {
    "collapsed": false
   },
   "id": "1931f92d9a90ac1b"
  },
  {
   "cell_type": "markdown",
   "source": [
    "****When phi>=1 then our series is non-stationary****"
   ],
   "metadata": {
    "collapsed": false
   },
   "id": "7f07219289c56bec"
  },
  {
   "cell_type": "code",
   "execution_count": null,
   "id": "ab8f76fa7d7d6dc3",
   "metadata": {
    "collapsed": false
   },
   "outputs": [],
   "source": []
  }
 ],
 "metadata": {
  "kernelspec": {
   "display_name": "Python 3 (ipykernel)",
   "language": "python",
   "name": "python3"
  },
  "language_info": {
   "codemirror_mode": {
    "name": "ipython",
    "version": 3
   },
   "file_extension": ".py",
   "mimetype": "text/x-python",
   "name": "python",
   "nbconvert_exporter": "python",
   "pygments_lexer": "ipython3",
   "version": "3.12.0"
  }
 },
 "nbformat": 4,
 "nbformat_minor": 5
}
