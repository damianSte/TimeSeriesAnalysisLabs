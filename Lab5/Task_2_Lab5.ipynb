{
 "cells": [
  {
   "cell_type": "code",
   "outputs": [],
   "source": [
    "import numpy as np\n",
    "import matplotlib.pyplot as plt\n",
    "from statsmodels.graphics.tsaplots import plot_acf, plot_pacf\n",
    "import statsmodels.api as sm\n"
   ],
   "metadata": {
    "collapsed": false
   },
   "id": "31c91e2b0ba2fbe3",
   "execution_count": null
  },
  {
   "cell_type": "markdown",
   "source": [
    "yt = c + ϵt + θ1ϵt−1 + θ2ϵt−2 + ... + θqϵt−q,"
   ],
   "metadata": {
    "collapsed": false
   },
   "id": "57effad4af445a09"
  },
  {
   "cell_type": "code",
   "execution_count": null,
   "id": "initial_id",
   "metadata": {
    "collapsed": true
   },
   "outputs": [],
   "source": [
    "def get_ma_model1(c, n, q, theta, burnin=0):\n",
    "    \"\"\"\n",
    "    Generate a moving average (MA) model for a given time series data.\n",
    "\n",
    "    Parameters:\n",
    "    - c: Constant term.\n",
    "    - n: Number of time steps.\n",
    "    - q: The order of the moving average model.\n",
    "    - theta: Numpy array representing the random noise.\n",
    "    - burnin: Number of initial values to discard.\n",
    "\n",
    "    Returns:\n",
    "    - ma_model: A numpy array representing the moving average model.\n",
    "    \"\"\"\n",
    "    np.random.seed(0)\n",
    "    eps = np.random.normal(size=n + burnin)\n",
    "    ma_model = np.zeros(n + burnin)\n",
    "\n",
    "    for t in range(q, n + burnin):\n",
    "        ma_model[t] = c + np.mean(theta * eps[t - q])\n",
    "\n",
    "    return ma_model[burnin:]\n",
    "\n",
    "\n"
   ]
  },
  {
   "cell_type": "code",
   "outputs": [],
   "source": [
    "def get_ma_model2(n, q, theta, burnin=0):\n",
    "    \"\"\"\n",
    "    Generate a moving average (MA) model for a given time series data.\n",
    "\n",
    "    Parameters:\n",
    "    - c: Constant term.\n",
    "    - n: Number of time steps.\n",
    "    - q: The order of the moving average model.\n",
    "    - theta: Numpy array representing the random noise.\n",
    "    - burnin: Number of initial values to discard.\n",
    "\n",
    "    Returns:\n",
    "    - ma_model: A numpy array representing the moving average model.\n",
    "    \"\"\"\n",
    "    np.random.seed(0)\n",
    "    eps = np.random.normal(size=n + burnin)\n",
    "    ma_model = np.zeros(n + burnin)\n",
    "\n",
    "    for t in range(q, n + burnin):\n",
    "        ma_model[t] =eps[t]-eps[t - q] + np.mean(theta * eps[t - q])\n",
    "\n",
    "    return ma_model[burnin:]"
   ],
   "metadata": {
    "collapsed": false
   },
   "id": "26455ab80dfb779f",
   "execution_count": null
  },
  {
   "cell_type": "code",
   "outputs": [],
   "source": [
    "# Generate MA(1) model\n",
    "ma1_data = get_ma_model1(20, 5000, 1, 0.8)\n",
    "\n",
    "# Generate MA(2) model\n",
    "ma2_data2 = get_ma_model2(5000, 1, 0.8)\n",
    "# Plot MA(1) and MA(2) time series\n",
    "fig, ax = plt.subplots(2, figsize=(12, 6))\n",
    "ax[0].plot(ma1_data)\n",
    "ax[0].set_title('MA(1) Model (y(t) = 20 + ϵ(t) + 0.8ϵ(t-1))')\n",
    "ax[1].plot(ma2_data2)\n",
    "ax[1].set_title('MA(2) Model (yt=εt−εt−1+ 0.8εt−2)')\n",
    "plt.tight_layout()\n",
    "plt.show()"
   ],
   "metadata": {
    "collapsed": false
   },
   "id": "fdd238d2deda75e6",
   "execution_count": null
  },
  {
   "cell_type": "code",
   "outputs": [],
   "source": [
    "# Calculate ACF and PACF for MA(1) model\n",
    "fig, ax = plt.subplots(2,2, figsize=(12, 6))\n",
    "plot_acf(ma1_data, lags=30, title='ACF for MA(1) Model', ax=ax[0,0], zero=False)\n",
    "plot_pacf(ma1_data, lags=30, title='PACF for MA(1) Model', ax=ax[1,0], zero=False)\n",
    "plot_acf(ma2_data2, lags=30, title='ACF for MA(2) Model',ax=ax[0,1], zero=False)\n",
    "plot_pacf(ma2_data2, lags=30, title='PACF for MA(2) Model',ax=ax[1,1], zero=False)\n",
    "plt.tight_layout()\n",
    "plt.show()\n"
   ],
   "metadata": {
    "collapsed": false
   },
   "id": "57522c571d47e866",
   "execution_count": null
  },
  {
   "cell_type": "code",
   "outputs": [],
   "source": [],
   "metadata": {
    "collapsed": false
   },
   "id": "d7df5e04d699900b",
   "execution_count": null
  }
 ],
 "metadata": {
  "kernelspec": {
   "display_name": "Python 3",
   "language": "python",
   "name": "python3"
  },
  "language_info": {
   "codemirror_mode": {
    "name": "ipython",
    "version": 2
   },
   "file_extension": ".py",
   "mimetype": "text/x-python",
   "name": "python",
   "nbconvert_exporter": "python",
   "pygments_lexer": "ipython2",
   "version": "2.7.6"
  }
 },
 "nbformat": 4,
 "nbformat_minor": 5
}
