{
 "cells": [
  {
   "cell_type": "code",
   "execution_count": 1,
   "id": "initial_id",
   "metadata": {
    "collapsed": true,
    "ExecuteTime": {
     "end_time": "2024-05-09T06:41:03.127535900Z",
     "start_time": "2024-05-09T06:40:57.708321500Z"
    }
   },
   "outputs": [],
   "source": [
    "import pandas as pd"
   ]
  },
  {
   "cell_type": "code",
   "execution_count": 2,
   "outputs": [
    {
     "data": {
      "text/plain": "         Yr    Mn     CO2\n2    1958.0   1.0  -99.99\n3    1958.0   2.0  -99.99\n4    1958.0   3.0  315.71\n5    1958.0   4.0  317.45\n6    1958.0   5.0  317.51\n..      ...   ...     ...\n801  2024.0   8.0  -99.99\n802  2024.0   9.0  -99.99\n803  2024.0  10.0  -99.99\n804  2024.0  11.0  -99.99\n805  2024.0  12.0  -99.99\n\n[804 rows x 3 columns]",
      "text/html": "<div>\n<style scoped>\n    .dataframe tbody tr th:only-of-type {\n        vertical-align: middle;\n    }\n\n    .dataframe tbody tr th {\n        vertical-align: top;\n    }\n\n    .dataframe thead th {\n        text-align: right;\n    }\n</style>\n<table border=\"1\" class=\"dataframe\">\n  <thead>\n    <tr style=\"text-align: right;\">\n      <th></th>\n      <th>Yr</th>\n      <th>Mn</th>\n      <th>CO2</th>\n    </tr>\n  </thead>\n  <tbody>\n    <tr>\n      <th>2</th>\n      <td>1958.0</td>\n      <td>1.0</td>\n      <td>-99.99</td>\n    </tr>\n    <tr>\n      <th>3</th>\n      <td>1958.0</td>\n      <td>2.0</td>\n      <td>-99.99</td>\n    </tr>\n    <tr>\n      <th>4</th>\n      <td>1958.0</td>\n      <td>3.0</td>\n      <td>315.71</td>\n    </tr>\n    <tr>\n      <th>5</th>\n      <td>1958.0</td>\n      <td>4.0</td>\n      <td>317.45</td>\n    </tr>\n    <tr>\n      <th>6</th>\n      <td>1958.0</td>\n      <td>5.0</td>\n      <td>317.51</td>\n    </tr>\n    <tr>\n      <th>...</th>\n      <td>...</td>\n      <td>...</td>\n      <td>...</td>\n    </tr>\n    <tr>\n      <th>801</th>\n      <td>2024.0</td>\n      <td>8.0</td>\n      <td>-99.99</td>\n    </tr>\n    <tr>\n      <th>802</th>\n      <td>2024.0</td>\n      <td>9.0</td>\n      <td>-99.99</td>\n    </tr>\n    <tr>\n      <th>803</th>\n      <td>2024.0</td>\n      <td>10.0</td>\n      <td>-99.99</td>\n    </tr>\n    <tr>\n      <th>804</th>\n      <td>2024.0</td>\n      <td>11.0</td>\n      <td>-99.99</td>\n    </tr>\n    <tr>\n      <th>805</th>\n      <td>2024.0</td>\n      <td>12.0</td>\n      <td>-99.99</td>\n    </tr>\n  </tbody>\n</table>\n<p>804 rows × 3 columns</p>\n</div>"
     },
     "execution_count": 2,
     "metadata": {},
     "output_type": "execute_result"
    }
   ],
   "source": [
    "\n",
    "df = pd.read_csv(\"monthly_in_situ_co2_mlo.csv\", skiprows=61, usecols=['Yr', 'Mn', 'CO2'], skipinitialspace=True)\n",
    "df=df.drop([0,1])\n",
    "df"
   ],
   "metadata": {
    "collapsed": false,
    "ExecuteTime": {
     "end_time": "2024-05-09T06:41:03.130538700Z",
     "start_time": "2024-05-09T06:40:58.185109300Z"
    }
   },
   "id": "3c7afbfd5649b6bb"
  },
  {
   "cell_type": "code",
   "execution_count": 3,
   "outputs": [
    {
     "data": {
      "text/plain": "       Yr  Mn     CO2\n2    1958   1  -99.99\n3    1958   2  -99.99\n4    1958   3  315.71\n5    1958   4  317.45\n6    1958   5  317.51\n..    ...  ..     ...\n801  2024   8  -99.99\n802  2024   9  -99.99\n803  2024  10  -99.99\n804  2024  11  -99.99\n805  2024  12  -99.99\n\n[804 rows x 3 columns]",
      "text/html": "<div>\n<style scoped>\n    .dataframe tbody tr th:only-of-type {\n        vertical-align: middle;\n    }\n\n    .dataframe tbody tr th {\n        vertical-align: top;\n    }\n\n    .dataframe thead th {\n        text-align: right;\n    }\n</style>\n<table border=\"1\" class=\"dataframe\">\n  <thead>\n    <tr style=\"text-align: right;\">\n      <th></th>\n      <th>Yr</th>\n      <th>Mn</th>\n      <th>CO2</th>\n    </tr>\n  </thead>\n  <tbody>\n    <tr>\n      <th>2</th>\n      <td>1958</td>\n      <td>1</td>\n      <td>-99.99</td>\n    </tr>\n    <tr>\n      <th>3</th>\n      <td>1958</td>\n      <td>2</td>\n      <td>-99.99</td>\n    </tr>\n    <tr>\n      <th>4</th>\n      <td>1958</td>\n      <td>3</td>\n      <td>315.71</td>\n    </tr>\n    <tr>\n      <th>5</th>\n      <td>1958</td>\n      <td>4</td>\n      <td>317.45</td>\n    </tr>\n    <tr>\n      <th>6</th>\n      <td>1958</td>\n      <td>5</td>\n      <td>317.51</td>\n    </tr>\n    <tr>\n      <th>...</th>\n      <td>...</td>\n      <td>...</td>\n      <td>...</td>\n    </tr>\n    <tr>\n      <th>801</th>\n      <td>2024</td>\n      <td>8</td>\n      <td>-99.99</td>\n    </tr>\n    <tr>\n      <th>802</th>\n      <td>2024</td>\n      <td>9</td>\n      <td>-99.99</td>\n    </tr>\n    <tr>\n      <th>803</th>\n      <td>2024</td>\n      <td>10</td>\n      <td>-99.99</td>\n    </tr>\n    <tr>\n      <th>804</th>\n      <td>2024</td>\n      <td>11</td>\n      <td>-99.99</td>\n    </tr>\n    <tr>\n      <th>805</th>\n      <td>2024</td>\n      <td>12</td>\n      <td>-99.99</td>\n    </tr>\n  </tbody>\n</table>\n<p>804 rows × 3 columns</p>\n</div>"
     },
     "execution_count": 3,
     "metadata": {},
     "output_type": "execute_result"
    }
   ],
   "source": [
    "df['Yr'] = df['Yr'].astype(int).astype(str)\n",
    "df['Mn'] = df['Mn'].astype(int).astype(str)\n",
    "df\n"
   ],
   "metadata": {
    "collapsed": false,
    "ExecuteTime": {
     "end_time": "2024-05-09T06:41:03.131538800Z",
     "start_time": "2024-05-09T06:40:58.206128100Z"
    }
   },
   "id": "d4a375cc76697b85"
  }
 ],
 "metadata": {
  "kernelspec": {
   "display_name": "Python 3",
   "language": "python",
   "name": "python3"
  },
  "language_info": {
   "codemirror_mode": {
    "name": "ipython",
    "version": 2
   },
   "file_extension": ".py",
   "mimetype": "text/x-python",
   "name": "python",
   "nbconvert_exporter": "python",
   "pygments_lexer": "ipython2",
   "version": "2.7.6"
  }
 },
 "nbformat": 4,
 "nbformat_minor": 5
}
