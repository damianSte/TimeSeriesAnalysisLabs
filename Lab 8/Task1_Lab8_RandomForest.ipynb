{
 "cells": [
  {
   "cell_type": "code",
   "execution_count": 1,
   "id": "213bac1911abe8c6",
   "metadata": {
    "ExecuteTime": {
     "end_time": "2024-05-14T13:21:43.491670Z",
     "start_time": "2024-05-14T13:21:40.516027Z"
    },
    "collapsed": false,
    "jupyter": {
     "outputs_hidden": false
    }
   },
   "outputs": [],
   "source": [
    "import pandas as pd\n",
    "from matplotlib import pyplot as plt"
   ]
  },
  {
   "cell_type": "markdown",
   "id": "b91f346be5849d6e",
   "metadata": {
    "collapsed": false,
    "jupyter": {
     "outputs_hidden": false
    }
   },
   "source": [
    "**Importing Data**\n",
    "- skiprows - we skip first 61 rows, as it is \"unimportant\" text \n",
    "- drop([]) rows with indexes"
   ]
  },
  {
   "cell_type": "code",
   "execution_count": 2,
   "id": "3c7afbfd5649b6bb",
   "metadata": {
    "ExecuteTime": {
     "end_time": "2024-05-14T13:21:43.520261Z",
     "start_time": "2024-05-14T13:21:43.493672Z"
    },
    "collapsed": false,
    "jupyter": {
     "outputs_hidden": false
    }
   },
   "outputs": [
    {
     "data": {
      "text/html": [
       "<div>\n",
       "<style scoped>\n",
       "    .dataframe tbody tr th:only-of-type {\n",
       "        vertical-align: middle;\n",
       "    }\n",
       "\n",
       "    .dataframe tbody tr th {\n",
       "        vertical-align: top;\n",
       "    }\n",
       "\n",
       "    .dataframe thead th {\n",
       "        text-align: right;\n",
       "    }\n",
       "</style>\n",
       "<table border=\"1\" class=\"dataframe\">\n",
       "  <thead>\n",
       "    <tr style=\"text-align: right;\">\n",
       "      <th></th>\n",
       "      <th>Yr</th>\n",
       "      <th>Mn</th>\n",
       "      <th>CO2</th>\n",
       "    </tr>\n",
       "  </thead>\n",
       "  <tbody>\n",
       "    <tr>\n",
       "      <th>2</th>\n",
       "      <td>1958.0</td>\n",
       "      <td>1.0</td>\n",
       "      <td>-99.99</td>\n",
       "    </tr>\n",
       "    <tr>\n",
       "      <th>3</th>\n",
       "      <td>1958.0</td>\n",
       "      <td>2.0</td>\n",
       "      <td>-99.99</td>\n",
       "    </tr>\n",
       "    <tr>\n",
       "      <th>4</th>\n",
       "      <td>1958.0</td>\n",
       "      <td>3.0</td>\n",
       "      <td>315.71</td>\n",
       "    </tr>\n",
       "    <tr>\n",
       "      <th>5</th>\n",
       "      <td>1958.0</td>\n",
       "      <td>4.0</td>\n",
       "      <td>317.45</td>\n",
       "    </tr>\n",
       "    <tr>\n",
       "      <th>6</th>\n",
       "      <td>1958.0</td>\n",
       "      <td>5.0</td>\n",
       "      <td>317.51</td>\n",
       "    </tr>\n",
       "    <tr>\n",
       "      <th>...</th>\n",
       "      <td>...</td>\n",
       "      <td>...</td>\n",
       "      <td>...</td>\n",
       "    </tr>\n",
       "    <tr>\n",
       "      <th>801</th>\n",
       "      <td>2024.0</td>\n",
       "      <td>8.0</td>\n",
       "      <td>-99.99</td>\n",
       "    </tr>\n",
       "    <tr>\n",
       "      <th>802</th>\n",
       "      <td>2024.0</td>\n",
       "      <td>9.0</td>\n",
       "      <td>-99.99</td>\n",
       "    </tr>\n",
       "    <tr>\n",
       "      <th>803</th>\n",
       "      <td>2024.0</td>\n",
       "      <td>10.0</td>\n",
       "      <td>-99.99</td>\n",
       "    </tr>\n",
       "    <tr>\n",
       "      <th>804</th>\n",
       "      <td>2024.0</td>\n",
       "      <td>11.0</td>\n",
       "      <td>-99.99</td>\n",
       "    </tr>\n",
       "    <tr>\n",
       "      <th>805</th>\n",
       "      <td>2024.0</td>\n",
       "      <td>12.0</td>\n",
       "      <td>-99.99</td>\n",
       "    </tr>\n",
       "  </tbody>\n",
       "</table>\n",
       "<p>804 rows × 3 columns</p>\n",
       "</div>"
      ],
      "text/plain": [
       "         Yr    Mn     CO2\n",
       "2    1958.0   1.0  -99.99\n",
       "3    1958.0   2.0  -99.99\n",
       "4    1958.0   3.0  315.71\n",
       "5    1958.0   4.0  317.45\n",
       "6    1958.0   5.0  317.51\n",
       "..      ...   ...     ...\n",
       "801  2024.0   8.0  -99.99\n",
       "802  2024.0   9.0  -99.99\n",
       "803  2024.0  10.0  -99.99\n",
       "804  2024.0  11.0  -99.99\n",
       "805  2024.0  12.0  -99.99\n",
       "\n",
       "[804 rows x 3 columns]"
      ]
     },
     "execution_count": 2,
     "metadata": {},
     "output_type": "execute_result"
    }
   ],
   "source": [
    "df = pd.read_csv(\"monthly_in_situ_co2_mlo.csv\", skiprows=61, usecols=['Yr', 'Mn', 'CO2'], skipinitialspace=True)\n",
    "df=df.drop([0,1])\n",
    "df"
   ]
  },
  {
   "cell_type": "markdown",
   "id": "14d665e58ed977c8",
   "metadata": {
    "collapsed": false,
    "jupyter": {
     "outputs_hidden": false
    }
   },
   "source": [
    "**Setting index Column**\n"
   ]
  },
  {
   "cell_type": "markdown",
   "id": "6a2e8c595ca6e38e",
   "metadata": {
    "collapsed": false,
    "jupyter": {
     "outputs_hidden": false
    }
   },
   "source": [
    "1) changing type of columns from int to string"
   ]
  },
  {
   "cell_type": "code",
   "execution_count": 3,
   "id": "d4a375cc76697b85",
   "metadata": {
    "ExecuteTime": {
     "end_time": "2024-05-14T13:21:43.532260Z",
     "start_time": "2024-05-14T13:21:43.521257Z"
    },
    "collapsed": false,
    "jupyter": {
     "outputs_hidden": false
    }
   },
   "outputs": [
    {
     "data": {
      "text/html": [
       "<div>\n",
       "<style scoped>\n",
       "    .dataframe tbody tr th:only-of-type {\n",
       "        vertical-align: middle;\n",
       "    }\n",
       "\n",
       "    .dataframe tbody tr th {\n",
       "        vertical-align: top;\n",
       "    }\n",
       "\n",
       "    .dataframe thead th {\n",
       "        text-align: right;\n",
       "    }\n",
       "</style>\n",
       "<table border=\"1\" class=\"dataframe\">\n",
       "  <thead>\n",
       "    <tr style=\"text-align: right;\">\n",
       "      <th></th>\n",
       "      <th>Yr</th>\n",
       "      <th>Mn</th>\n",
       "      <th>CO2</th>\n",
       "    </tr>\n",
       "  </thead>\n",
       "  <tbody>\n",
       "    <tr>\n",
       "      <th>2</th>\n",
       "      <td>1958</td>\n",
       "      <td>1</td>\n",
       "      <td>-99.99</td>\n",
       "    </tr>\n",
       "    <tr>\n",
       "      <th>3</th>\n",
       "      <td>1958</td>\n",
       "      <td>2</td>\n",
       "      <td>-99.99</td>\n",
       "    </tr>\n",
       "    <tr>\n",
       "      <th>4</th>\n",
       "      <td>1958</td>\n",
       "      <td>3</td>\n",
       "      <td>315.71</td>\n",
       "    </tr>\n",
       "    <tr>\n",
       "      <th>5</th>\n",
       "      <td>1958</td>\n",
       "      <td>4</td>\n",
       "      <td>317.45</td>\n",
       "    </tr>\n",
       "    <tr>\n",
       "      <th>6</th>\n",
       "      <td>1958</td>\n",
       "      <td>5</td>\n",
       "      <td>317.51</td>\n",
       "    </tr>\n",
       "    <tr>\n",
       "      <th>...</th>\n",
       "      <td>...</td>\n",
       "      <td>...</td>\n",
       "      <td>...</td>\n",
       "    </tr>\n",
       "    <tr>\n",
       "      <th>801</th>\n",
       "      <td>2024</td>\n",
       "      <td>8</td>\n",
       "      <td>-99.99</td>\n",
       "    </tr>\n",
       "    <tr>\n",
       "      <th>802</th>\n",
       "      <td>2024</td>\n",
       "      <td>9</td>\n",
       "      <td>-99.99</td>\n",
       "    </tr>\n",
       "    <tr>\n",
       "      <th>803</th>\n",
       "      <td>2024</td>\n",
       "      <td>10</td>\n",
       "      <td>-99.99</td>\n",
       "    </tr>\n",
       "    <tr>\n",
       "      <th>804</th>\n",
       "      <td>2024</td>\n",
       "      <td>11</td>\n",
       "      <td>-99.99</td>\n",
       "    </tr>\n",
       "    <tr>\n",
       "      <th>805</th>\n",
       "      <td>2024</td>\n",
       "      <td>12</td>\n",
       "      <td>-99.99</td>\n",
       "    </tr>\n",
       "  </tbody>\n",
       "</table>\n",
       "<p>804 rows × 3 columns</p>\n",
       "</div>"
      ],
      "text/plain": [
       "       Yr  Mn     CO2\n",
       "2    1958   1  -99.99\n",
       "3    1958   2  -99.99\n",
       "4    1958   3  315.71\n",
       "5    1958   4  317.45\n",
       "6    1958   5  317.51\n",
       "..    ...  ..     ...\n",
       "801  2024   8  -99.99\n",
       "802  2024   9  -99.99\n",
       "803  2024  10  -99.99\n",
       "804  2024  11  -99.99\n",
       "805  2024  12  -99.99\n",
       "\n",
       "[804 rows x 3 columns]"
      ]
     },
     "execution_count": 3,
     "metadata": {},
     "output_type": "execute_result"
    }
   ],
   "source": [
    "df['Yr'] = df['Yr'].astype(int).astype(str)\n",
    "df['Mn'] = df['Mn'].astype(int).astype(str)\n",
    "df\n"
   ]
  },
  {
   "cell_type": "markdown",
   "id": "9cbfb305aab38d18",
   "metadata": {
    "collapsed": false,
    "jupyter": {
     "outputs_hidden": false
    }
   },
   "source": [
    "2) Combining Year column and Month column with \"-\" separator "
   ]
  },
  {
   "cell_type": "code",
   "execution_count": 4,
   "id": "39b19818be936565",
   "metadata": {
    "ExecuteTime": {
     "end_time": "2024-05-14T13:21:43.540902Z",
     "start_time": "2024-05-14T13:21:43.534260Z"
    },
    "collapsed": false,
    "jupyter": {
     "outputs_hidden": false
    }
   },
   "outputs": [],
   "source": [
    "df.index= pd.to_datetime(df['Yr']+'-'+df['Mn'])"
   ]
  },
  {
   "cell_type": "markdown",
   "id": "389b48077c919e4e",
   "metadata": {
    "collapsed": false,
    "jupyter": {
     "outputs_hidden": false
    }
   },
   "source": [
    "3) Setting index frequency to Months"
   ]
  },
  {
   "cell_type": "code",
   "execution_count": 5,
   "id": "190701e5a312f8a1",
   "metadata": {
    "ExecuteTime": {
     "end_time": "2024-05-14T13:21:43.549726Z",
     "start_time": "2024-05-14T13:21:43.542898Z"
    },
    "collapsed": false,
    "jupyter": {
     "outputs_hidden": false
    }
   },
   "outputs": [],
   "source": [
    "df.index.freq = 'MS'"
   ]
  },
  {
   "cell_type": "markdown",
   "id": "92297309e4746b76",
   "metadata": {
    "collapsed": false,
    "jupyter": {
     "outputs_hidden": false
    }
   },
   "source": [
    "4) Removing unnecessary columns with Year and Month"
   ]
  },
  {
   "cell_type": "code",
   "execution_count": 6,
   "id": "6e7dbe314d1f6dec",
   "metadata": {
    "ExecuteTime": {
     "end_time": "2024-05-14T13:21:43.556770Z",
     "start_time": "2024-05-14T13:21:43.551724Z"
    },
    "collapsed": false,
    "jupyter": {
     "outputs_hidden": false
    }
   },
   "outputs": [],
   "source": [
    "df =df.drop(columns=['Yr','Mn'])"
   ]
  },
  {
   "cell_type": "code",
   "execution_count": 7,
   "id": "347a91d460c4b2c",
   "metadata": {
    "ExecuteTime": {
     "end_time": "2024-05-14T13:21:43.567424Z",
     "start_time": "2024-05-14T13:21:43.557762Z"
    },
    "collapsed": false,
    "jupyter": {
     "outputs_hidden": false
    }
   },
   "outputs": [
    {
     "data": {
      "text/html": [
       "<div>\n",
       "<style scoped>\n",
       "    .dataframe tbody tr th:only-of-type {\n",
       "        vertical-align: middle;\n",
       "    }\n",
       "\n",
       "    .dataframe tbody tr th {\n",
       "        vertical-align: top;\n",
       "    }\n",
       "\n",
       "    .dataframe thead th {\n",
       "        text-align: right;\n",
       "    }\n",
       "</style>\n",
       "<table border=\"1\" class=\"dataframe\">\n",
       "  <thead>\n",
       "    <tr style=\"text-align: right;\">\n",
       "      <th></th>\n",
       "      <th>CO2</th>\n",
       "    </tr>\n",
       "  </thead>\n",
       "  <tbody>\n",
       "    <tr>\n",
       "      <th>1958-01-01</th>\n",
       "      <td>-99.99</td>\n",
       "    </tr>\n",
       "    <tr>\n",
       "      <th>1958-02-01</th>\n",
       "      <td>-99.99</td>\n",
       "    </tr>\n",
       "    <tr>\n",
       "      <th>1958-03-01</th>\n",
       "      <td>315.71</td>\n",
       "    </tr>\n",
       "    <tr>\n",
       "      <th>1958-04-01</th>\n",
       "      <td>317.45</td>\n",
       "    </tr>\n",
       "    <tr>\n",
       "      <th>1958-05-01</th>\n",
       "      <td>317.51</td>\n",
       "    </tr>\n",
       "    <tr>\n",
       "      <th>...</th>\n",
       "      <td>...</td>\n",
       "    </tr>\n",
       "    <tr>\n",
       "      <th>2024-08-01</th>\n",
       "      <td>-99.99</td>\n",
       "    </tr>\n",
       "    <tr>\n",
       "      <th>2024-09-01</th>\n",
       "      <td>-99.99</td>\n",
       "    </tr>\n",
       "    <tr>\n",
       "      <th>2024-10-01</th>\n",
       "      <td>-99.99</td>\n",
       "    </tr>\n",
       "    <tr>\n",
       "      <th>2024-11-01</th>\n",
       "      <td>-99.99</td>\n",
       "    </tr>\n",
       "    <tr>\n",
       "      <th>2024-12-01</th>\n",
       "      <td>-99.99</td>\n",
       "    </tr>\n",
       "  </tbody>\n",
       "</table>\n",
       "<p>804 rows × 1 columns</p>\n",
       "</div>"
      ],
      "text/plain": [
       "               CO2\n",
       "1958-01-01  -99.99\n",
       "1958-02-01  -99.99\n",
       "1958-03-01  315.71\n",
       "1958-04-01  317.45\n",
       "1958-05-01  317.51\n",
       "...            ...\n",
       "2024-08-01  -99.99\n",
       "2024-09-01  -99.99\n",
       "2024-10-01  -99.99\n",
       "2024-11-01  -99.99\n",
       "2024-12-01  -99.99\n",
       "\n",
       "[804 rows x 1 columns]"
      ]
     },
     "execution_count": 7,
     "metadata": {},
     "output_type": "execute_result"
    }
   ],
   "source": [
    "df"
   ]
  },
  {
   "cell_type": "markdown",
   "id": "ca811228b868c137",
   "metadata": {
    "collapsed": false,
    "jupyter": {
     "outputs_hidden": false
    }
   },
   "source": [
    "Ensuring that the CO2 column is type numeric, if coerce then invalid data will be set to NaN  "
   ]
  },
  {
   "cell_type": "code",
   "execution_count": 8,
   "id": "8a80054c76222d24",
   "metadata": {
    "ExecuteTime": {
     "end_time": "2024-05-14T13:21:43.574129Z",
     "start_time": "2024-05-14T13:21:43.568419Z"
    },
    "collapsed": false,
    "jupyter": {
     "outputs_hidden": false
    }
   },
   "outputs": [],
   "source": [
    "df['CO2']= pd.to_numeric(df['CO2'], errors='coerce')"
   ]
  },
  {
   "cell_type": "code",
   "execution_count": 9,
   "id": "ddf574ee24ee111a",
   "metadata": {
    "ExecuteTime": {
     "end_time": "2024-05-14T13:21:43.908325Z",
     "start_time": "2024-05-14T13:21:43.575116Z"
    },
    "collapsed": false,
    "jupyter": {
     "outputs_hidden": false
    }
   },
   "outputs": [
    {
     "data": {
      "image/png": "[encoded data removed]",
      "text/plain": [
       "<Figure size 640x480 with 1 Axes>"
      ]
     },
     "metadata": {},
     "output_type": "display_data"
    }
   ],
   "source": [
    "df.plot();"
   ]
  },
  {
   "cell_type": "code",
   "execution_count": 10,
   "id": "76d9eb38875f7f84",
   "metadata": {
    "ExecuteTime": {
     "end_time": "2024-05-14T13:21:43.912318Z",
     "start_time": "2024-05-14T13:21:43.909317Z"
    },
    "collapsed": false,
    "jupyter": {
     "outputs_hidden": false
    }
   },
   "outputs": [],
   "source": [
    "import numpy as np"
   ]
  },
  {
   "cell_type": "markdown",
   "id": "3a2055c246c4e868",
   "metadata": {
    "collapsed": false,
    "jupyter": {
     "outputs_hidden": false
    }
   },
   "source": [
    "In our data set -99.99 is a number representing no value, thus using .replace we replace to NaN"
   ]
  },
  {
   "cell_type": "code",
   "execution_count": 11,
   "id": "27f86f2c90b65095",
   "metadata": {
    "ExecuteTime": {
     "end_time": "2024-05-14T13:21:43.919816Z",
     "start_time": "2024-05-14T13:21:43.914318Z"
    },
    "collapsed": false,
    "jupyter": {
     "outputs_hidden": false
    }
   },
   "outputs": [],
   "source": [
    "df= df.replace(-99.99, np.nan)"
   ]
  },
  {
   "cell_type": "code",
   "execution_count": 12,
   "id": "56ea2a02144dab53",
   "metadata": {
    "ExecuteTime": {
     "end_time": "2024-05-14T13:21:43.931332Z",
     "start_time": "2024-05-14T13:21:43.920811Z"
    },
    "collapsed": false,
    "jupyter": {
     "outputs_hidden": false
    }
   },
   "outputs": [
    {
     "data": {
      "text/html": [
       "<div>\n",
       "<style scoped>\n",
       "    .dataframe tbody tr th:only-of-type {\n",
       "        vertical-align: middle;\n",
       "    }\n",
       "\n",
       "    .dataframe tbody tr th {\n",
       "        vertical-align: top;\n",
       "    }\n",
       "\n",
       "    .dataframe thead th {\n",
       "        text-align: right;\n",
       "    }\n",
       "</style>\n",
       "<table border=\"1\" class=\"dataframe\">\n",
       "  <thead>\n",
       "    <tr style=\"text-align: right;\">\n",
       "      <th></th>\n",
       "      <th>CO2</th>\n",
       "    </tr>\n",
       "  </thead>\n",
       "  <tbody>\n",
       "    <tr>\n",
       "      <th>2024-01-01</th>\n",
       "      <td>422.62</td>\n",
       "    </tr>\n",
       "    <tr>\n",
       "      <th>2024-02-01</th>\n",
       "      <td>424.35</td>\n",
       "    </tr>\n",
       "    <tr>\n",
       "      <th>2024-03-01</th>\n",
       "      <td>425.22</td>\n",
       "    </tr>\n",
       "    <tr>\n",
       "      <th>2024-04-01</th>\n",
       "      <td>NaN</td>\n",
       "    </tr>\n",
       "    <tr>\n",
       "      <th>2024-05-01</th>\n",
       "      <td>NaN</td>\n",
       "    </tr>\n",
       "    <tr>\n",
       "      <th>2024-06-01</th>\n",
       "      <td>NaN</td>\n",
       "    </tr>\n",
       "    <tr>\n",
       "      <th>2024-07-01</th>\n",
       "      <td>NaN</td>\n",
       "    </tr>\n",
       "    <tr>\n",
       "      <th>2024-08-01</th>\n",
       "      <td>NaN</td>\n",
       "    </tr>\n",
       "    <tr>\n",
       "      <th>2024-09-01</th>\n",
       "      <td>NaN</td>\n",
       "    </tr>\n",
       "    <tr>\n",
       "      <th>2024-10-01</th>\n",
       "      <td>NaN</td>\n",
       "    </tr>\n",
       "    <tr>\n",
       "      <th>2024-11-01</th>\n",
       "      <td>NaN</td>\n",
       "    </tr>\n",
       "    <tr>\n",
       "      <th>2024-12-01</th>\n",
       "      <td>NaN</td>\n",
       "    </tr>\n",
       "  </tbody>\n",
       "</table>\n",
       "</div>"
      ],
      "text/plain": [
       "               CO2\n",
       "2024-01-01  422.62\n",
       "2024-02-01  424.35\n",
       "2024-03-01  425.22\n",
       "2024-04-01     NaN\n",
       "2024-05-01     NaN\n",
       "2024-06-01     NaN\n",
       "2024-07-01     NaN\n",
       "2024-08-01     NaN\n",
       "2024-09-01     NaN\n",
       "2024-10-01     NaN\n",
       "2024-11-01     NaN\n",
       "2024-12-01     NaN"
      ]
     },
     "execution_count": 12,
     "metadata": {},
     "output_type": "execute_result"
    }
   ],
   "source": [
    "df.tail(12)"
   ]
  },
  {
   "cell_type": "code",
   "execution_count": 13,
   "id": "6fc388931bc3aff7",
   "metadata": {
    "ExecuteTime": {
     "end_time": "2024-05-14T13:21:43.939885Z",
     "start_time": "2024-05-14T13:21:43.932840Z"
    },
    "collapsed": false,
    "jupyter": {
     "outputs_hidden": false
    }
   },
   "outputs": [
    {
     "data": {
      "text/plain": [
       "CO2    16\n",
       "dtype: int64"
      ]
     },
     "execution_count": 13,
     "metadata": {},
     "output_type": "execute_result"
    }
   ],
   "source": [
    "df.isna().sum()"
   ]
  },
  {
   "cell_type": "markdown",
   "id": "2a39f00fbff501ef",
   "metadata": {
    "collapsed": false,
    "jupyter": {
     "outputs_hidden": false
    }
   },
   "source": []
  },
  {
   "cell_type": "markdown",
   "id": "958bc7cc97dc2f8",
   "metadata": {
    "collapsed": false,
    "jupyter": {
     "outputs_hidden": false
    }
   },
   "source": [
    ".bfill - backward filling missing values in Data Frame ensurese constancy of the data"
   ]
  },
  {
   "cell_type": "code",
   "execution_count": 14,
   "id": "1a7ceb50324dbeb8",
   "metadata": {
    "ExecuteTime": {
     "end_time": "2024-05-14T13:21:43.950532Z",
     "start_time": "2024-05-14T13:21:43.945881Z"
    },
    "collapsed": false,
    "jupyter": {
     "outputs_hidden": false
    }
   },
   "outputs": [],
   "source": [
    "df = df.bfill()"
   ]
  },
  {
   "cell_type": "code",
   "execution_count": 15,
   "id": "d00dac38108dc908",
   "metadata": {
    "ExecuteTime": {
     "end_time": "2024-05-14T13:21:43.958118Z",
     "start_time": "2024-05-14T13:21:43.952526Z"
    },
    "collapsed": false,
    "jupyter": {
     "outputs_hidden": false
    }
   },
   "outputs": [],
   "source": [
    "df.dropna(inplace=True)"
   ]
  },
  {
   "cell_type": "code",
   "execution_count": 16,
   "id": "c92440652212c5f7",
   "metadata": {
    "ExecuteTime": {
     "end_time": "2024-05-14T13:21:44.177787Z",
     "start_time": "2024-05-14T13:21:43.959080Z"
    },
    "collapsed": false,
    "jupyter": {
     "outputs_hidden": false
    }
   },
   "outputs": [
    {
     "data": {
      "image/png": "[encoded data removed]",
      "text/plain": [
       "<Figure size 640x480 with 1 Axes>"
      ]
     },
     "metadata": {},
     "output_type": "display_data"
    }
   ],
   "source": [
    "df.plot();"
   ]
  },
  {
   "cell_type": "code",
   "execution_count": 17,
   "id": "2b4eca7c106810ae",
   "metadata": {
    "ExecuteTime": {
     "end_time": "2024-05-14T13:21:44.188557Z",
     "start_time": "2024-05-14T13:21:44.179783Z"
    },
    "collapsed": false,
    "jupyter": {
     "outputs_hidden": false
    }
   },
   "outputs": [
    {
     "data": {
      "text/plain": [
       "1958-01-01    315.71\n",
       "1958-02-01    315.71\n",
       "1958-03-01    315.71\n",
       "1958-04-01    317.45\n",
       "1958-05-01    317.51\n",
       "               ...  \n",
       "2023-11-01    420.12\n",
       "2023-12-01    421.65\n",
       "2024-01-01    422.62\n",
       "2024-02-01    424.35\n",
       "2024-03-01    425.22\n",
       "Freq: MS, Name: CO2, Length: 795, dtype: float64"
      ]
     },
     "execution_count": 17,
     "metadata": {},
     "output_type": "execute_result"
    }
   ],
   "source": [
    "df['CO2'].shift(0)"
   ]
  },
  {
   "cell_type": "code",
   "execution_count": 18,
   "id": "cf73b49111d8193e",
   "metadata": {
    "ExecuteTime": {
     "end_time": "2024-05-14T13:21:44.206828Z",
     "start_time": "2024-05-14T13:21:44.190553Z"
    },
    "collapsed": false,
    "jupyter": {
     "outputs_hidden": false
    }
   },
   "outputs": [
    {
     "name": "stdout",
     "output_type": "stream",
     "text": [
      "12\n",
      "11\n",
      "10\n",
      "9\n",
      "8\n",
      "7\n",
      "6\n",
      "5\n",
      "4\n",
      "3\n",
      "2\n",
      "1\n"
     ]
    }
   ],
   "source": [
    "for i in range (12,0,-1):\n",
    "    print(i)\n",
    "    df['t='+str(i)] = df['CO2'].shift(i)"
   ]
  },
  {
   "cell_type": "code",
   "execution_count": 19,
   "id": "25c2fdcb9fe8b276",
   "metadata": {
    "ExecuteTime": {
     "end_time": "2024-05-14T13:21:44.231823Z",
     "start_time": "2024-05-14T13:21:44.207816Z"
    },
    "collapsed": false,
    "jupyter": {
     "outputs_hidden": false
    }
   },
   "outputs": [
    {
     "data": {
      "text/html": [
       "<div>\n",
       "<style scoped>\n",
       "    .dataframe tbody tr th:only-of-type {\n",
       "        vertical-align: middle;\n",
       "    }\n",
       "\n",
       "    .dataframe tbody tr th {\n",
       "        vertical-align: top;\n",
       "    }\n",
       "\n",
       "    .dataframe thead th {\n",
       "        text-align: right;\n",
       "    }\n",
       "</style>\n",
       "<table border=\"1\" class=\"dataframe\">\n",
       "  <thead>\n",
       "    <tr style=\"text-align: right;\">\n",
       "      <th></th>\n",
       "      <th>CO2</th>\n",
       "      <th>t=12</th>\n",
       "      <th>t=11</th>\n",
       "      <th>t=10</th>\n",
       "      <th>t=9</th>\n",
       "      <th>t=8</th>\n",
       "      <th>t=7</th>\n",
       "      <th>t=6</th>\n",
       "      <th>t=5</th>\n",
       "      <th>t=4</th>\n",
       "      <th>t=3</th>\n",
       "      <th>t=2</th>\n",
       "      <th>t=1</th>\n",
       "    </tr>\n",
       "  </thead>\n",
       "  <tbody>\n",
       "    <tr>\n",
       "      <th>1959-01-01</th>\n",
       "      <td>315.58</td>\n",
       "      <td>315.71</td>\n",
       "      <td>315.71</td>\n",
       "      <td>315.71</td>\n",
       "      <td>317.45</td>\n",
       "      <td>317.51</td>\n",
       "      <td>315.87</td>\n",
       "      <td>315.87</td>\n",
       "      <td>314.93</td>\n",
       "      <td>313.21</td>\n",
       "      <td>313.33</td>\n",
       "      <td>313.33</td>\n",
       "      <td>314.67</td>\n",
       "    </tr>\n",
       "    <tr>\n",
       "      <th>1959-02-01</th>\n",
       "      <td>316.49</td>\n",
       "      <td>315.71</td>\n",
       "      <td>315.71</td>\n",
       "      <td>317.45</td>\n",
       "      <td>317.51</td>\n",
       "      <td>315.87</td>\n",
       "      <td>315.87</td>\n",
       "      <td>314.93</td>\n",
       "      <td>313.21</td>\n",
       "      <td>313.33</td>\n",
       "      <td>313.33</td>\n",
       "      <td>314.67</td>\n",
       "      <td>315.58</td>\n",
       "    </tr>\n",
       "    <tr>\n",
       "      <th>1959-03-01</th>\n",
       "      <td>316.65</td>\n",
       "      <td>315.71</td>\n",
       "      <td>317.45</td>\n",
       "      <td>317.51</td>\n",
       "      <td>315.87</td>\n",
       "      <td>315.87</td>\n",
       "      <td>314.93</td>\n",
       "      <td>313.21</td>\n",
       "      <td>313.33</td>\n",
       "      <td>313.33</td>\n",
       "      <td>314.67</td>\n",
       "      <td>315.58</td>\n",
       "      <td>316.49</td>\n",
       "    </tr>\n",
       "    <tr>\n",
       "      <th>1959-04-01</th>\n",
       "      <td>317.72</td>\n",
       "      <td>317.45</td>\n",
       "      <td>317.51</td>\n",
       "      <td>315.87</td>\n",
       "      <td>315.87</td>\n",
       "      <td>314.93</td>\n",
       "      <td>313.21</td>\n",
       "      <td>313.33</td>\n",
       "      <td>313.33</td>\n",
       "      <td>314.67</td>\n",
       "      <td>315.58</td>\n",
       "      <td>316.49</td>\n",
       "      <td>316.65</td>\n",
       "    </tr>\n",
       "    <tr>\n",
       "      <th>1959-05-01</th>\n",
       "      <td>318.29</td>\n",
       "      <td>317.51</td>\n",
       "      <td>315.87</td>\n",
       "      <td>315.87</td>\n",
       "      <td>314.93</td>\n",
       "      <td>313.21</td>\n",
       "      <td>313.33</td>\n",
       "      <td>313.33</td>\n",
       "      <td>314.67</td>\n",
       "      <td>315.58</td>\n",
       "      <td>316.49</td>\n",
       "      <td>316.65</td>\n",
       "      <td>317.72</td>\n",
       "    </tr>\n",
       "    <tr>\n",
       "      <th>...</th>\n",
       "      <td>...</td>\n",
       "      <td>...</td>\n",
       "      <td>...</td>\n",
       "      <td>...</td>\n",
       "      <td>...</td>\n",
       "      <td>...</td>\n",
       "      <td>...</td>\n",
       "      <td>...</td>\n",
       "      <td>...</td>\n",
       "      <td>...</td>\n",
       "      <td>...</td>\n",
       "      <td>...</td>\n",
       "      <td>...</td>\n",
       "    </tr>\n",
       "    <tr>\n",
       "      <th>2023-11-01</th>\n",
       "      <td>420.12</td>\n",
       "      <td>417.03</td>\n",
       "      <td>418.48</td>\n",
       "      <td>419.23</td>\n",
       "      <td>420.33</td>\n",
       "      <td>420.51</td>\n",
       "      <td>422.73</td>\n",
       "      <td>423.78</td>\n",
       "      <td>423.39</td>\n",
       "      <td>421.62</td>\n",
       "      <td>419.56</td>\n",
       "      <td>418.06</td>\n",
       "      <td>418.40</td>\n",
       "    </tr>\n",
       "    <tr>\n",
       "      <th>2023-12-01</th>\n",
       "      <td>421.65</td>\n",
       "      <td>418.48</td>\n",
       "      <td>419.23</td>\n",
       "      <td>420.33</td>\n",
       "      <td>420.51</td>\n",
       "      <td>422.73</td>\n",
       "      <td>423.78</td>\n",
       "      <td>423.39</td>\n",
       "      <td>421.62</td>\n",
       "      <td>419.56</td>\n",
       "      <td>418.06</td>\n",
       "      <td>418.40</td>\n",
       "      <td>420.12</td>\n",
       "    </tr>\n",
       "    <tr>\n",
       "      <th>2024-01-01</th>\n",
       "      <td>422.62</td>\n",
       "      <td>419.23</td>\n",
       "      <td>420.33</td>\n",
       "      <td>420.51</td>\n",
       "      <td>422.73</td>\n",
       "      <td>423.78</td>\n",
       "      <td>423.39</td>\n",
       "      <td>421.62</td>\n",
       "      <td>419.56</td>\n",
       "      <td>418.06</td>\n",
       "      <td>418.40</td>\n",
       "      <td>420.12</td>\n",
       "      <td>421.65</td>\n",
       "    </tr>\n",
       "    <tr>\n",
       "      <th>2024-02-01</th>\n",
       "      <td>424.35</td>\n",
       "      <td>420.33</td>\n",
       "      <td>420.51</td>\n",
       "      <td>422.73</td>\n",
       "      <td>423.78</td>\n",
       "      <td>423.39</td>\n",
       "      <td>421.62</td>\n",
       "      <td>419.56</td>\n",
       "      <td>418.06</td>\n",
       "      <td>418.40</td>\n",
       "      <td>420.12</td>\n",
       "      <td>421.65</td>\n",
       "      <td>422.62</td>\n",
       "    </tr>\n",
       "    <tr>\n",
       "      <th>2024-03-01</th>\n",
       "      <td>425.22</td>\n",
       "      <td>420.51</td>\n",
       "      <td>422.73</td>\n",
       "      <td>423.78</td>\n",
       "      <td>423.39</td>\n",
       "      <td>421.62</td>\n",
       "      <td>419.56</td>\n",
       "      <td>418.06</td>\n",
       "      <td>418.40</td>\n",
       "      <td>420.12</td>\n",
       "      <td>421.65</td>\n",
       "      <td>422.62</td>\n",
       "      <td>424.35</td>\n",
       "    </tr>\n",
       "  </tbody>\n",
       "</table>\n",
       "<p>783 rows × 13 columns</p>\n",
       "</div>"
      ],
      "text/plain": [
       "               CO2    t=12    t=11    t=10     t=9     t=8     t=7     t=6  \\\n",
       "1959-01-01  315.58  315.71  315.71  315.71  317.45  317.51  315.87  315.87   \n",
       "1959-02-01  316.49  315.71  315.71  317.45  317.51  315.87  315.87  314.93   \n",
       "1959-03-01  316.65  315.71  317.45  317.51  315.87  315.87  314.93  313.21   \n",
       "1959-04-01  317.72  317.45  317.51  315.87  315.87  314.93  313.21  313.33   \n",
       "1959-05-01  318.29  317.51  315.87  315.87  314.93  313.21  313.33  313.33   \n",
       "...            ...     ...     ...     ...     ...     ...     ...     ...   \n",
       "2023-11-01  420.12  417.03  418.48  419.23  420.33  420.51  422.73  423.78   \n",
       "2023-12-01  421.65  418.48  419.23  420.33  420.51  422.73  423.78  423.39   \n",
       "2024-01-01  422.62  419.23  420.33  420.51  422.73  423.78  423.39  421.62   \n",
       "2024-02-01  424.35  420.33  420.51  422.73  423.78  423.39  421.62  419.56   \n",
       "2024-03-01  425.22  420.51  422.73  423.78  423.39  421.62  419.56  418.06   \n",
       "\n",
       "               t=5     t=4     t=3     t=2     t=1  \n",
       "1959-01-01  314.93  313.21  313.33  313.33  314.67  \n",
       "1959-02-01  313.21  313.33  313.33  314.67  315.58  \n",
       "1959-03-01  313.33  313.33  314.67  315.58  316.49  \n",
       "1959-04-01  313.33  314.67  315.58  316.49  316.65  \n",
       "1959-05-01  314.67  315.58  316.49  316.65  317.72  \n",
       "...            ...     ...     ...     ...     ...  \n",
       "2023-11-01  423.39  421.62  419.56  418.06  418.40  \n",
       "2023-12-01  421.62  419.56  418.06  418.40  420.12  \n",
       "2024-01-01  419.56  418.06  418.40  420.12  421.65  \n",
       "2024-02-01  418.06  418.40  420.12  421.65  422.62  \n",
       "2024-03-01  418.40  420.12  421.65  422.62  424.35  \n",
       "\n",
       "[783 rows x 13 columns]"
      ]
     },
     "execution_count": 19,
     "metadata": {},
     "output_type": "execute_result"
    }
   ],
   "source": [
    "\n",
    "df.dropna(inplace=True)\n",
    "df"
   ]
  },
  {
   "cell_type": "code",
   "execution_count": 20,
   "id": "912d1a984caa8891",
   "metadata": {
    "ExecuteTime": {
     "end_time": "2024-05-14T13:21:44.239092Z",
     "start_time": "2024-05-14T13:21:44.232824Z"
    },
    "collapsed": false,
    "jupyter": {
     "outputs_hidden": false
    }
   },
   "outputs": [],
   "source": [
    "x = df.iloc[:,1:].values\n",
    "y= df.iloc[:,0].values"
   ]
  },
  {
   "cell_type": "code",
   "execution_count": 21,
   "id": "3c61694de76c0a2b",
   "metadata": {
    "ExecuteTime": {
     "end_time": "2024-05-14T13:21:50.188604Z",
     "start_time": "2024-05-14T13:21:44.240057Z"
    },
    "collapsed": false,
    "jupyter": {
     "outputs_hidden": false
    }
   },
   "outputs": [],
   "source": [
    "from sklearn.model_selection import train_test_split\n",
    "from sklearn.ensemble import GradientBoostingRegressor\n",
    "from sklearn.model_selection import ParameterGrid"
   ]
  },
  {
   "cell_type": "code",
   "execution_count": 22,
   "id": "7b0da65bb6017edd",
   "metadata": {
    "ExecuteTime": {
     "end_time": "2024-05-14T13:21:50.202666Z",
     "start_time": "2024-05-14T13:21:50.189598Z"
    },
    "collapsed": false,
    "jupyter": {
     "outputs_hidden": false
    }
   },
   "outputs": [],
   "source": [
    "x_train, x_test, y_train, y_test = train_test_split(x, y, test_size=0.2, random_state=42)"
   ]
  },
  {
   "cell_type": "code",
   "execution_count": 23,
   "id": "3aeaf3a72516c4c6",
   "metadata": {
    "ExecuteTime": {
     "end_time": "2024-05-14T13:21:50.208755Z",
     "start_time": "2024-05-14T13:21:50.203656Z"
    },
    "collapsed": false,
    "jupyter": {
     "outputs_hidden": false
    }
   },
   "outputs": [
    {
     "name": "stdout",
     "output_type": "stream",
     "text": [
      "(783, 13)\n"
     ]
    }
   ],
   "source": [
    "print(df.shape)"
   ]
  },
  {
   "cell_type": "markdown",
   "id": "b2ba7b02135d5cf8",
   "metadata": {
    "collapsed": false,
    "jupyter": {
     "outputs_hidden": false
    }
   },
   "source": []
  },
  {
   "cell_type": "code",
   "execution_count": 24,
   "id": "83bf8c27df2d3914",
   "metadata": {
    "ExecuteTime": {
     "end_time": "2024-05-14T13:21:50.539801Z",
     "start_time": "2024-05-14T13:21:50.209751Z"
    },
    "collapsed": false,
    "jupyter": {
     "outputs_hidden": false
    }
   },
   "outputs": [
    {
     "data": {
      "text/html": [
       "<style>#sk-container-id-1 {\n",
       "  /* Definition of color scheme common for light and dark mode */\n",
       "  --sklearn-color-text: black;\n",
       "  --sklearn-color-line: gray;\n",
       "  /* Definition of color scheme for unfitted estimators */\n",
       "  --sklearn-color-unfitted-level-0: #fff5e6;\n",
       "  --sklearn-color-unfitted-level-1: #f6e4d2;\n",
       "  --sklearn-color-unfitted-level-2: #ffe0b3;\n",
       "  --sklearn-color-unfitted-level-3: chocolate;\n",
       "  /* Definition of color scheme for fitted estimators */\n",
       "  --sklearn-color-fitted-level-0: #f0f8ff;\n",
       "  --sklearn-color-fitted-level-1: #d4ebff;\n",
       "  --sklearn-color-fitted-level-2: #b3dbfd;\n",
       "  --sklearn-color-fitted-level-3: cornflowerblue;\n",
       "\n",
       "  /* Specific color for light theme */\n",
       "  --sklearn-color-text-on-default-background: var(--sg-text-color, var(--theme-code-foreground, var(--jp-content-font-color1, black)));\n",
       "  --sklearn-color-background: var(--sg-background-color, var(--theme-background, var(--jp-layout-color0, white)));\n",
       "  --sklearn-color-border-box: var(--sg-text-color, var(--theme-code-foreground, var(--jp-content-font-color1, black)));\n",
       "  --sklearn-color-icon: #696969;\n",
       "\n",
       "  @media (prefers-color-scheme: dark) {\n",
       "    /* Redefinition of color scheme for dark theme */\n",
       "    --sklearn-color-text-on-default-background: var(--sg-text-color, var(--theme-code-foreground, var(--jp-content-font-color1, white)));\n",
       "    --sklearn-color-background: var(--sg-background-color, var(--theme-background, var(--jp-layout-color0, #111)));\n",
       "    --sklearn-color-border-box: var(--sg-text-color, var(--theme-code-foreground, var(--jp-content-font-color1, white)));\n",
       "    --sklearn-color-icon: #878787;\n",
       "  }\n",
       "}\n",
       "\n",
       "#sk-container-id-1 {\n",
       "  color: var(--sklearn-color-text);\n",
       "}\n",
       "\n",
       "#sk-container-id-1 pre {\n",
       "  padding: 0;\n",
       "}\n",
       "\n",
       "#sk-container-id-1 input.sk-hidden--visually {\n",
       "  border: 0;\n",
       "  clip: rect(1px 1px 1px 1px);\n",
       "  clip: rect(1px, 1px, 1px, 1px);\n",
       "  height: 1px;\n",
       "  margin: -1px;\n",
       "  overflow: hidden;\n",
       "  padding: 0;\n",
       "  position: absolute;\n",
       "  width: 1px;\n",
       "}\n",
       "\n",
       "#sk-container-id-1 div.sk-dashed-wrapped {\n",
       "  border: 1px dashed var(--sklearn-color-line);\n",
       "  margin: 0 0.4em 0.5em 0.4em;\n",
       "  box-sizing: border-box;\n",
       "  padding-bottom: 0.4em;\n",
       "  background-color: var(--sklearn-color-background);\n",
       "}\n",
       "\n",
       "#sk-container-id-1 div.sk-container {\n",
       "  /* jupyter's `normalize.less` sets `[hidden] { display: none; }`\n",
       "     but bootstrap.min.css set `[hidden] { display: none !important; }`\n",
       "     so we also need the `!important` here to be able to override the\n",
       "     default hidden behavior on the sphinx rendered scikit-learn.org.\n",
       "     See: https://github.com/scikit-learn/scikit-learn/issues/21755 */\n",
       "  display: inline-block !important;\n",
       "  position: relative;\n",
       "}\n",
       "\n",
       "#sk-container-id-1 div.sk-text-repr-fallback {\n",
       "  display: none;\n",
       "}\n",
       "\n",
       "div.sk-parallel-item,\n",
       "div.sk-serial,\n",
       "div.sk-item {\n",
       "  /* draw centered vertical line to link estimators */\n",
       "  background-image: linear-gradient(var(--sklearn-color-text-on-default-background), var(--sklearn-color-text-on-default-background));\n",
       "  background-size: 2px 100%;\n",
       "  background-repeat: no-repeat;\n",
       "  background-position: center center;\n",
       "}\n",
       "\n",
       "/* Parallel-specific style estimator block */\n",
       "\n",
       "#sk-container-id-1 div.sk-parallel-item::after {\n",
       "  content: \"\";\n",
       "  width: 100%;\n",
       "  border-bottom: 2px solid var(--sklearn-color-text-on-default-background);\n",
       "  flex-grow: 1;\n",
       "}\n",
       "\n",
       "#sk-container-id-1 div.sk-parallel {\n",
       "  display: flex;\n",
       "  align-items: stretch;\n",
       "  justify-content: center;\n",
       "  background-color: var(--sklearn-color-background);\n",
       "  position: relative;\n",
       "}\n",
       "\n",
       "#sk-container-id-1 div.sk-parallel-item {\n",
       "  display: flex;\n",
       "  flex-direction: column;\n",
       "}\n",
       "\n",
       "#sk-container-id-1 div.sk-parallel-item:first-child::after {\n",
       "  align-self: flex-end;\n",
       "  width: 50%;\n",
       "}\n",
       "\n",
       "#sk-container-id-1 div.sk-parallel-item:last-child::after {\n",
       "  align-self: flex-start;\n",
       "  width: 50%;\n",
       "}\n",
       "\n",
       "#sk-container-id-1 div.sk-parallel-item:only-child::after {\n",
       "  width: 0;\n",
       "}\n",
       "\n",
       "/* Serial-specific style estimator block */\n",
       "\n",
       "#sk-container-id-1 div.sk-serial {\n",
       "  display: flex;\n",
       "  flex-direction: column;\n",
       "  align-items: center;\n",
       "  background-color: var(--sklearn-color-background);\n",
       "  padding-right: 1em;\n",
       "  padding-left: 1em;\n",
       "}\n",
       "\n",
       "\n",
       "/* Toggleable style: style used for estimator/Pipeline/ColumnTransformer box that is\n",
       "clickable and can be expanded/collapsed.\n",
       "- Pipeline and ColumnTransformer use this feature and define the default style\n",
       "- Estimators will overwrite some part of the style using the `sk-estimator` class\n",
       "*/\n",
       "\n",
       "/* Pipeline and ColumnTransformer style (default) */\n",
       "\n",
       "#sk-container-id-1 div.sk-toggleable {\n",
       "  /* Default theme specific background. It is overwritten whether we have a\n",
       "  specific estimator or a Pipeline/ColumnTransformer */\n",
       "  background-color: var(--sklearn-color-background);\n",
       "}\n",
       "\n",
       "/* Toggleable label */\n",
       "#sk-container-id-1 label.sk-toggleable__label {\n",
       "  cursor: pointer;\n",
       "  display: block;\n",
       "  width: 100%;\n",
       "  margin-bottom: 0;\n",
       "  padding: 0.5em;\n",
       "  box-sizing: border-box;\n",
       "  text-align: center;\n",
       "}\n",
       "\n",
       "#sk-container-id-1 label.sk-toggleable__label-arrow:before {\n",
       "  /* Arrow on the left of the label */\n",
       "  content: \"▸\";\n",
       "  float: left;\n",
       "  margin-right: 0.25em;\n",
       "  color: var(--sklearn-color-icon);\n",
       "}\n",
       "\n",
       "#sk-container-id-1 label.sk-toggleable__label-arrow:hover:before {\n",
       "  color: var(--sklearn-color-text);\n",
       "}\n",
       "\n",
       "/* Toggleable content - dropdown */\n",
       "\n",
       "#sk-container-id-1 div.sk-toggleable__content {\n",
       "  max-height: 0;\n",
       "  max-width: 0;\n",
       "  overflow: hidden;\n",
       "  text-align: left;\n",
       "  /* unfitted */\n",
       "  background-color: var(--sklearn-color-unfitted-level-0);\n",
       "}\n",
       "\n",
       "#sk-container-id-1 div.sk-toggleable__content.fitted {\n",
       "  /* fitted */\n",
       "  background-color: var(--sklearn-color-fitted-level-0);\n",
       "}\n",
       "\n",
       "#sk-container-id-1 div.sk-toggleable__content pre {\n",
       "  margin: 0.2em;\n",
       "  border-radius: 0.25em;\n",
       "  color: var(--sklearn-color-text);\n",
       "  /* unfitted */\n",
       "  background-color: var(--sklearn-color-unfitted-level-0);\n",
       "}\n",
       "\n",
       "#sk-container-id-1 div.sk-toggleable__content.fitted pre {\n",
       "  /* unfitted */\n",
       "  background-color: var(--sklearn-color-fitted-level-0);\n",
       "}\n",
       "\n",
       "#sk-container-id-1 input.sk-toggleable__control:checked~div.sk-toggleable__content {\n",
       "  /* Expand drop-down */\n",
       "  max-height: 200px;\n",
       "  max-width: 100%;\n",
       "  overflow: auto;\n",
       "}\n",
       "\n",
       "#sk-container-id-1 input.sk-toggleable__control:checked~label.sk-toggleable__label-arrow:before {\n",
       "  content: \"▾\";\n",
       "}\n",
       "\n",
       "/* Pipeline/ColumnTransformer-specific style */\n",
       "\n",
       "#sk-container-id-1 div.sk-label input.sk-toggleable__control:checked~label.sk-toggleable__label {\n",
       "  color: var(--sklearn-color-text);\n",
       "  background-color: var(--sklearn-color-unfitted-level-2);\n",
       "}\n",
       "\n",
       "#sk-container-id-1 div.sk-label.fitted input.sk-toggleable__control:checked~label.sk-toggleable__label {\n",
       "  background-color: var(--sklearn-color-fitted-level-2);\n",
       "}\n",
       "\n",
       "/* Estimator-specific style */\n",
       "\n",
       "/* Colorize estimator box */\n",
       "#sk-container-id-1 div.sk-estimator input.sk-toggleable__control:checked~label.sk-toggleable__label {\n",
       "  /* unfitted */\n",
       "  background-color: var(--sklearn-color-unfitted-level-2);\n",
       "}\n",
       "\n",
       "#sk-container-id-1 div.sk-estimator.fitted input.sk-toggleable__control:checked~label.sk-toggleable__label {\n",
       "  /* fitted */\n",
       "  background-color: var(--sklearn-color-fitted-level-2);\n",
       "}\n",
       "\n",
       "#sk-container-id-1 div.sk-label label.sk-toggleable__label,\n",
       "#sk-container-id-1 div.sk-label label {\n",
       "  /* The background is the default theme color */\n",
       "  color: var(--sklearn-color-text-on-default-background);\n",
       "}\n",
       "\n",
       "/* On hover, darken the color of the background */\n",
       "#sk-container-id-1 div.sk-label:hover label.sk-toggleable__label {\n",
       "  color: var(--sklearn-color-text);\n",
       "  background-color: var(--sklearn-color-unfitted-level-2);\n",
       "}\n",
       "\n",
       "/* Label box, darken color on hover, fitted */\n",
       "#sk-container-id-1 div.sk-label.fitted:hover label.sk-toggleable__label.fitted {\n",
       "  color: var(--sklearn-color-text);\n",
       "  background-color: var(--sklearn-color-fitted-level-2);\n",
       "}\n",
       "\n",
       "/* Estimator label */\n",
       "\n",
       "#sk-container-id-1 div.sk-label label {\n",
       "  font-family: monospace;\n",
       "  font-weight: bold;\n",
       "  display: inline-block;\n",
       "  line-height: 1.2em;\n",
       "}\n",
       "\n",
       "#sk-container-id-1 div.sk-label-container {\n",
       "  text-align: center;\n",
       "}\n",
       "\n",
       "/* Estimator-specific */\n",
       "#sk-container-id-1 div.sk-estimator {\n",
       "  font-family: monospace;\n",
       "  border: 1px dotted var(--sklearn-color-border-box);\n",
       "  border-radius: 0.25em;\n",
       "  box-sizing: border-box;\n",
       "  margin-bottom: 0.5em;\n",
       "  /* unfitted */\n",
       "  background-color: var(--sklearn-color-unfitted-level-0);\n",
       "}\n",
       "\n",
       "#sk-container-id-1 div.sk-estimator.fitted {\n",
       "  /* fitted */\n",
       "  background-color: var(--sklearn-color-fitted-level-0);\n",
       "}\n",
       "\n",
       "/* on hover */\n",
       "#sk-container-id-1 div.sk-estimator:hover {\n",
       "  /* unfitted */\n",
       "  background-color: var(--sklearn-color-unfitted-level-2);\n",
       "}\n",
       "\n",
       "#sk-container-id-1 div.sk-estimator.fitted:hover {\n",
       "  /* fitted */\n",
       "  background-color: var(--sklearn-color-fitted-level-2);\n",
       "}\n",
       "\n",
       "/* Specification for estimator info (e.g. \"i\" and \"?\") */\n",
       "\n",
       "/* Common style for \"i\" and \"?\" */\n",
       "\n",
       ".sk-estimator-doc-link,\n",
       "a:link.sk-estimator-doc-link,\n",
       "a:visited.sk-estimator-doc-link {\n",
       "  float: right;\n",
       "  font-size: smaller;\n",
       "  line-height: 1em;\n",
       "  font-family: monospace;\n",
       "  background-color: var(--sklearn-color-background);\n",
       "  border-radius: 1em;\n",
       "  height: 1em;\n",
       "  width: 1em;\n",
       "  text-decoration: none !important;\n",
       "  margin-left: 1ex;\n",
       "  /* unfitted */\n",
       "  border: var(--sklearn-color-unfitted-level-1) 1pt solid;\n",
       "  color: var(--sklearn-color-unfitted-level-1);\n",
       "}\n",
       "\n",
       ".sk-estimator-doc-link.fitted,\n",
       "a:link.sk-estimator-doc-link.fitted,\n",
       "a:visited.sk-estimator-doc-link.fitted {\n",
       "  /* fitted */\n",
       "  border: var(--sklearn-color-fitted-level-1) 1pt solid;\n",
       "  color: var(--sklearn-color-fitted-level-1);\n",
       "}\n",
       "\n",
       "/* On hover */\n",
       "div.sk-estimator:hover .sk-estimator-doc-link:hover,\n",
       ".sk-estimator-doc-link:hover,\n",
       "div.sk-label-container:hover .sk-estimator-doc-link:hover,\n",
       ".sk-estimator-doc-link:hover {\n",
       "  /* unfitted */\n",
       "  background-color: var(--sklearn-color-unfitted-level-3);\n",
       "  color: var(--sklearn-color-background);\n",
       "  text-decoration: none;\n",
       "}\n",
       "\n",
       "div.sk-estimator.fitted:hover .sk-estimator-doc-link.fitted:hover,\n",
       ".sk-estimator-doc-link.fitted:hover,\n",
       "div.sk-label-container:hover .sk-estimator-doc-link.fitted:hover,\n",
       ".sk-estimator-doc-link.fitted:hover {\n",
       "  /* fitted */\n",
       "  background-color: var(--sklearn-color-fitted-level-3);\n",
       "  color: var(--sklearn-color-background);\n",
       "  text-decoration: none;\n",
       "}\n",
       "\n",
       "/* Span, style for the box shown on hovering the info icon */\n",
       ".sk-estimator-doc-link span {\n",
       "  display: none;\n",
       "  z-index: 9999;\n",
       "  position: relative;\n",
       "  font-weight: normal;\n",
       "  right: .2ex;\n",
       "  padding: .5ex;\n",
       "  margin: .5ex;\n",
       "  width: min-content;\n",
       "  min-width: 20ex;\n",
       "  max-width: 50ex;\n",
       "  color: var(--sklearn-color-text);\n",
       "  box-shadow: 2pt 2pt 4pt #999;\n",
       "  /* unfitted */\n",
       "  background: var(--sklearn-color-unfitted-level-0);\n",
       "  border: .5pt solid var(--sklearn-color-unfitted-level-3);\n",
       "}\n",
       "\n",
       ".sk-estimator-doc-link.fitted span {\n",
       "  /* fitted */\n",
       "  background: var(--sklearn-color-fitted-level-0);\n",
       "  border: var(--sklearn-color-fitted-level-3);\n",
       "}\n",
       "\n",
       ".sk-estimator-doc-link:hover span {\n",
       "  display: block;\n",
       "}\n",
       "\n",
       "/* \"?\"-specific style due to the `<a>` HTML tag */\n",
       "\n",
       "#sk-container-id-1 a.estimator_doc_link {\n",
       "  float: right;\n",
       "  font-size: 1rem;\n",
       "  line-height: 1em;\n",
       "  font-family: monospace;\n",
       "  background-color: var(--sklearn-color-background);\n",
       "  border-radius: 1rem;\n",
       "  height: 1rem;\n",
       "  width: 1rem;\n",
       "  text-decoration: none;\n",
       "  /* unfitted */\n",
       "  color: var(--sklearn-color-unfitted-level-1);\n",
       "  border: var(--sklearn-color-unfitted-level-1) 1pt solid;\n",
       "}\n",
       "\n",
       "#sk-container-id-1 a.estimator_doc_link.fitted {\n",
       "  /* fitted */\n",
       "  border: var(--sklearn-color-fitted-level-1) 1pt solid;\n",
       "  color: var(--sklearn-color-fitted-level-1);\n",
       "}\n",
       "\n",
       "/* On hover */\n",
       "#sk-container-id-1 a.estimator_doc_link:hover {\n",
       "  /* unfitted */\n",
       "  background-color: var(--sklearn-color-unfitted-level-3);\n",
       "  color: var(--sklearn-color-background);\n",
       "  text-decoration: none;\n",
       "}\n",
       "\n",
       "#sk-container-id-1 a.estimator_doc_link.fitted:hover {\n",
       "  /* fitted */\n",
       "  background-color: var(--sklearn-color-fitted-level-3);\n",
       "}\n",
       "</style><div id=\"sk-container-id-1\" class=\"sk-top-container\"><div class=\"sk-text-repr-fallback\"><pre>GradientBoostingRegressor(learning_rate=0.2, max_features=4, n_estimators=200,\n",
       "                          random_state=42)</pre><b>In a Jupyter environment, please rerun this cell to show the HTML representation or trust the notebook. <br />On GitHub, the HTML representation is unable to render, please try loading this page with nbviewer.org.</b></div><div class=\"sk-container\" hidden><div class=\"sk-item\"><div class=\"sk-estimator fitted sk-toggleable\"><input class=\"sk-toggleable__control sk-hidden--visually\" id=\"sk-estimator-id-1\" type=\"checkbox\" checked><label for=\"sk-estimator-id-1\" class=\"sk-toggleable__label fitted sk-toggleable__label-arrow fitted\">&nbsp;&nbsp;GradientBoostingRegressor<a class=\"sk-estimator-doc-link fitted\" rel=\"noreferrer\" target=\"_blank\" href=\"https://scikit-learn.org/1.4/modules/generated/sklearn.ensemble.GradientBoostingRegressor.html\">?<span>Documentation for GradientBoostingRegressor</span></a><span class=\"sk-estimator-doc-link fitted\">i<span>Fitted</span></span></label><div class=\"sk-toggleable__content fitted\"><pre>GradientBoostingRegressor(learning_rate=0.2, max_features=4, n_estimators=200,\n",
       "                          random_state=42)</pre></div> </div></div></div></div>"
      ],
      "text/plain": [
       "GradientBoostingRegressor(learning_rate=0.2, max_features=4, n_estimators=200,\n",
       "                          random_state=42)"
      ]
     },
     "execution_count": 24,
     "metadata": {},
     "output_type": "execute_result"
    }
   ],
   "source": [
    "gbr = GradientBoostingRegressor(random_state=42,n_estimators=200, max_features=4, learning_rate=0.2)\n",
    "gbr.fit(x_train, y_train)"
   ]
  },
  {
   "cell_type": "code",
   "execution_count": 25,
   "id": "86042c5ef1aca3cb",
   "metadata": {
    "ExecuteTime": {
     "end_time": "2024-05-14T13:21:50.547806Z",
     "start_time": "2024-05-14T13:21:50.540797Z"
    },
    "collapsed": false,
    "jupyter": {
     "outputs_hidden": false
    }
   },
   "outputs": [],
   "source": [
    "train_pred = gbr.predict(x_train)\n",
    "test_pred = gbr.predict(x_test)"
   ]
  },
  {
   "cell_type": "code",
   "execution_count": 26,
   "id": "63d5a6dce759bf1f",
   "metadata": {
    "ExecuteTime": {
     "end_time": "2024-05-14T13:21:50.734996Z",
     "start_time": "2024-05-14T13:21:50.548801Z"
    },
    "collapsed": false,
    "jupyter": {
     "outputs_hidden": false
    }
   },
   "outputs": [
    {
     "data": {
      "text/plain": [
       "<matplotlib.collections.PathCollection at 0x23021b51d60>"
      ]
     },
     "execution_count": 26,
     "metadata": {},
     "output_type": "execute_result"
    },
    {
     "data": {
      "image/png": "[encoded data removed]",
      "text/plain": [
       "<Figure size 640x480 with 1 Axes>"
      ]
     },
     "metadata": {},
     "output_type": "display_data"
    }
   ],
   "source": [
    "plt.scatter(y_train,train_pred)\n",
    "plt.scatter(y_test,test_pred)"
   ]
  },
  {
   "cell_type": "code",
   "execution_count": 27,
   "id": "33e527b8d4d98e44",
   "metadata": {
    "ExecuteTime": {
     "end_time": "2024-05-14T13:21:50.740955Z",
     "start_time": "2024-05-14T13:21:50.736992Z"
    },
    "collapsed": false,
    "jupyter": {
     "outputs_hidden": false
    }
   },
   "outputs": [],
   "source": [
    "from sklearn.metrics import mean_absolute_percentage_error"
   ]
  },
  {
   "cell_type": "code",
   "execution_count": 28,
   "id": "93c5b31b85abfb34",
   "metadata": {
    "ExecuteTime": {
     "end_time": "2024-05-14T13:21:50.749089Z",
     "start_time": "2024-05-14T13:21:50.741951Z"
    },
    "collapsed": false,
    "jupyter": {
     "outputs_hidden": false
    }
   },
   "outputs": [
    {
     "data": {
      "text/plain": [
       "0.05475878526775821"
      ]
     },
     "execution_count": 28,
     "metadata": {},
     "output_type": "execute_result"
    }
   ],
   "source": [
    "mean_absolute_percentage_error(y_train,train_pred)*100"
   ]
  },
  {
   "cell_type": "code",
   "execution_count": 29,
   "id": "76993fcba8e97d7b",
   "metadata": {
    "ExecuteTime": {
     "end_time": "2024-05-14T13:21:50.756648Z",
     "start_time": "2024-05-14T13:21:50.750083Z"
    },
    "collapsed": false,
    "jupyter": {
     "outputs_hidden": false
    }
   },
   "outputs": [
    {
     "data": {
      "text/plain": [
       "0.19147183888020808"
      ]
     },
     "execution_count": 29,
     "metadata": {},
     "output_type": "execute_result"
    }
   ],
   "source": [
    "mean_absolute_percentage_error(y_test,test_pred)*100"
   ]
  },
  {
   "cell_type": "code",
   "execution_count": 30,
   "id": "fe4f3cf16cab536f",
   "metadata": {
    "ExecuteTime": {
     "end_time": "2024-05-14T13:21:50.763781Z",
     "start_time": "2024-05-14T13:21:50.757643Z"
    },
    "collapsed": false,
    "jupyter": {
     "outputs_hidden": false
    }
   },
   "outputs": [],
   "source": [
    "def get_first_eval_batch(data, n):\n",
    "    return data[-n:].reshape(-1,n)"
   ]
  },
  {
   "cell_type": "code",
   "execution_count": 31,
   "id": "2363ea2572977925",
   "metadata": {
    "ExecuteTime": {
     "end_time": "2024-05-14T13:21:50.771956Z",
     "start_time": "2024-05-14T13:21:50.764748Z"
    },
    "collapsed": false,
    "jupyter": {
     "outputs_hidden": false
    }
   },
   "outputs": [],
   "source": [
    "train =df[:-12]\n",
    "test = df[-12:]"
   ]
  },
  {
   "cell_type": "code",
   "execution_count": 32,
   "id": "e7f059d577baf073",
   "metadata": {
    "ExecuteTime": {
     "end_time": "2024-05-14T13:21:50.784111Z",
     "start_time": "2024-05-14T13:21:50.772944Z"
    },
    "collapsed": false,
    "jupyter": {
     "outputs_hidden": false
    }
   },
   "outputs": [],
   "source": [
    "n_lag =12\n",
    "test_pred_gbr =[]\n",
    "current_batch = get_first_eval_batch(train['CO2'].values,n_lag)\n",
    "\n",
    "for i in range(len(test)):\n",
    "    current_pred = gbr.predict(current_batch)[0]\n",
    "    test_pred_gbr.append(current_pred)\n",
    "    current_batch =np.append(current_batch[:,1:],current_pred).reshape(-1,n_lag)\n",
    "    "
   ]
  },
  {
   "cell_type": "code",
   "execution_count": 33,
   "id": "1bce5f1a0d0c30c9",
   "metadata": {
    "ExecuteTime": {
     "end_time": "2024-05-14T13:21:50.792105Z",
     "start_time": "2024-05-14T13:21:50.786104Z"
    },
    "collapsed": false,
    "jupyter": {
     "outputs_hidden": false
    }
   },
   "outputs": [
    {
     "data": {
      "text/plain": [
       "[422.65674641401677,\n",
       " 423.7156864799772,\n",
       " 423.083783570006,\n",
       " 421.5987274586038,\n",
       " 419.481672303812,\n",
       " 418.09513147405437,\n",
       " 418.52635819891515,\n",
       " 417.8907546121272,\n",
       " 418.5519117608701,\n",
       " 419.840455307808,\n",
       " 423.0814524199829,\n",
       " 424.9829089396242]"
      ]
     },
     "execution_count": 33,
     "metadata": {},
     "output_type": "execute_result"
    }
   ],
   "source": [
    "test_pred_gbr"
   ]
  },
  {
   "cell_type": "code",
   "execution_count": 34,
   "id": "17f5fdd0efe7b0f1",
   "metadata": {
    "ExecuteTime": {
     "end_time": "2024-05-14T13:21:51.014359Z",
     "start_time": "2024-05-14T13:21:50.794105Z"
    },
    "collapsed": false,
    "jupyter": {
     "outputs_hidden": false
    }
   },
   "outputs": [
    {
     "data": {
      "image/png": "[encoded data removed]",
      "text/plain": [
       "<Figure size 640x480 with 1 Axes>"
      ]
     },
     "metadata": {},
     "output_type": "display_data"
    }
   ],
   "source": [
    "df_comp = test['CO2'].to_frame()\n",
    "df_comp['gbr'] = test_pred_gbr\n",
    "df_comp.plot();"
   ]
  },
  {
   "cell_type": "code",
   "execution_count": 35,
   "id": "7f6bb4176d5f6296",
   "metadata": {
    "ExecuteTime": {
     "end_time": "2024-05-14T13:21:51.022352Z",
     "start_time": "2024-05-14T13:21:51.015352Z"
    },
    "collapsed": false,
    "jupyter": {
     "outputs_hidden": false
    }
   },
   "outputs": [
    {
     "data": {
      "text/plain": [
       "0.20374270582505516"
      ]
     },
     "execution_count": 35,
     "metadata": {},
     "output_type": "execute_result"
    }
   ],
   "source": [
    "mean_absolute_percentage_error(df_comp['CO2'],df_comp['gbr'])*100"
   ]
  },
  {
   "cell_type": "code",
   "execution_count": 36,
   "id": "d7711e8eb03c998c",
   "metadata": {
    "ExecuteTime": {
     "end_time": "2024-05-14T13:21:52.127093Z",
     "start_time": "2024-05-14T13:21:51.023352Z"
    },
    "collapsed": false,
    "jupyter": {
     "outputs_hidden": false
    }
   },
   "outputs": [],
   "source": [
    "from pmdarima import auto_arima\n",
    "from statsmodels.tsa.statespace.sarimax import SARIMAX"
   ]
  },
  {
   "cell_type": "code",
   "execution_count": 37,
   "id": "3aa42c4809bceec9",
   "metadata": {
    "ExecuteTime": {
     "end_time": "2024-05-14T13:24:40.139890Z",
     "start_time": "2024-05-14T13:21:52.128087Z"
    },
    "collapsed": false,
    "jupyter": {
     "outputs_hidden": false
    }
   },
   "outputs": [
    {
     "name": "stdout",
     "output_type": "stream",
     "text": [
      "Performing stepwise search to minimize aic\n",
      " ARIMA(2,1,2)(1,0,1)[12] intercept   : AIC=528.295, Time=2.47 sec\n",
      " ARIMA(0,1,0)(0,0,0)[12] intercept   : AIC=2537.824, Time=0.02 sec\n",
      " ARIMA(1,1,0)(1,0,0)[12] intercept   : AIC=inf, Time=0.60 sec\n",
      " ARIMA(0,1,1)(0,0,1)[12] intercept   : AIC=1741.808, Time=0.40 sec\n",
      " ARIMA(0,1,0)(0,0,0)[12]             : AIC=2544.863, Time=0.02 sec\n",
      " ARIMA(2,1,2)(0,0,1)[12] intercept   : AIC=1231.189, Time=2.13 sec\n",
      " ARIMA(2,1,2)(1,0,0)[12] intercept   : AIC=866.566, Time=2.13 sec\n",
      " ARIMA(2,1,2)(2,0,1)[12] intercept   : AIC=553.823, Time=5.71 sec\n",
      " ARIMA(2,1,2)(1,0,2)[12] intercept   : AIC=573.820, Time=5.75 sec\n",
      " ARIMA(2,1,2)(0,0,0)[12] intercept   : AIC=1598.108, Time=0.48 sec\n",
      " ARIMA(2,1,2)(0,0,2)[12] intercept   : AIC=inf, Time=5.24 sec\n",
      " ARIMA(2,1,2)(2,0,0)[12] intercept   : AIC=674.237, Time=7.47 sec\n",
      " ARIMA(2,1,2)(2,0,2)[12] intercept   : AIC=540.510, Time=4.29 sec\n",
      " ARIMA(1,1,2)(1,0,1)[12] intercept   : AIC=513.148, Time=2.40 sec\n",
      " ARIMA(1,1,2)(0,0,1)[12] intercept   : AIC=1647.412, Time=0.53 sec\n",
      " ARIMA(1,1,2)(1,0,0)[12] intercept   : AIC=854.954, Time=1.91 sec\n",
      " ARIMA(1,1,2)(2,0,1)[12] intercept   : AIC=526.481, Time=5.58 sec\n",
      " ARIMA(1,1,2)(1,0,2)[12] intercept   : AIC=539.214, Time=6.30 sec\n",
      " ARIMA(1,1,2)(0,0,0)[12] intercept   : AIC=1888.735, Time=0.18 sec\n",
      " ARIMA(1,1,2)(0,0,2)[12] intercept   : AIC=1460.815, Time=1.77 sec\n",
      " ARIMA(1,1,2)(2,0,0)[12] intercept   : AIC=683.779, Time=4.96 sec\n",
      " ARIMA(1,1,2)(2,0,2)[12] intercept   : AIC=501.461, Time=7.98 sec\n",
      " ARIMA(0,1,2)(2,0,2)[12] intercept   : AIC=506.721, Time=4.20 sec\n",
      " ARIMA(1,1,1)(2,0,2)[12] intercept   : AIC=506.040, Time=4.33 sec\n",
      " ARIMA(1,1,3)(2,0,2)[12] intercept   : AIC=509.598, Time=9.17 sec\n",
      " ARIMA(0,1,1)(2,0,2)[12] intercept   : AIC=512.940, Time=5.09 sec\n",
      " ARIMA(0,1,3)(2,0,2)[12] intercept   : AIC=499.957, Time=7.39 sec\n",
      " ARIMA(0,1,3)(1,0,2)[12] intercept   : AIC=537.335, Time=6.58 sec\n",
      " ARIMA(0,1,3)(2,0,1)[12] intercept   : AIC=528.312, Time=6.31 sec\n",
      " ARIMA(0,1,3)(1,0,1)[12] intercept   : AIC=514.206, Time=1.97 sec\n",
      " ARIMA(0,1,4)(2,0,2)[12] intercept   : AIC=502.973, Time=8.24 sec\n",
      " ARIMA(1,1,4)(2,0,2)[12] intercept   : AIC=inf, Time=13.71 sec\n",
      " ARIMA(0,1,3)(2,0,2)[12]             : AIC=496.125, Time=4.43 sec\n",
      " ARIMA(0,1,3)(1,0,2)[12]             : AIC=494.129, Time=4.07 sec\n",
      " ARIMA(0,1,3)(0,0,2)[12]             : AIC=1457.357, Time=1.01 sec\n",
      " ARIMA(0,1,3)(1,0,1)[12]             : AIC=492.126, Time=1.98 sec\n",
      " ARIMA(0,1,3)(0,0,1)[12]             : AIC=1633.320, Time=0.29 sec\n",
      " ARIMA(0,1,3)(1,0,0)[12]             : AIC=883.175, Time=0.34 sec\n",
      " ARIMA(0,1,3)(2,0,1)[12]             : AIC=494.122, Time=3.53 sec\n",
      " ARIMA(0,1,3)(0,0,0)[12]             : AIC=1850.031, Time=0.13 sec\n",
      " ARIMA(0,1,3)(2,0,0)[12]             : AIC=681.814, Time=0.95 sec\n",
      " ARIMA(0,1,2)(1,0,1)[12]             : AIC=495.755, Time=1.24 sec\n",
      " ARIMA(1,1,3)(1,0,1)[12]             : AIC=503.659, Time=2.63 sec\n",
      " ARIMA(0,1,4)(1,0,1)[12]             : AIC=494.123, Time=2.27 sec\n",
      " ARIMA(1,1,2)(1,0,1)[12]             : AIC=493.075, Time=1.74 sec\n",
      " ARIMA(1,1,4)(1,0,1)[12]             : AIC=496.125, Time=2.80 sec\n",
      "\n",
      "Best model:  ARIMA(0,1,3)(1,0,1)[12]          \n",
      "Total fit time: 165.223 seconds\n"
     ]
    },
    {
     "data": {
      "text/html": [
       "<table class=\"simpletable\">\n",
       "<caption>SARIMAX Results</caption>\n",
       "<tr>\n",
       "  <th>Dep. Variable:</th>                   <td>y</td>                <th>  No. Observations:  </th>    <td>771</td>  \n",
       "</tr>\n",
       "<tr>\n",
       "  <th>Model:</th>           <td>SARIMAX(0, 1, 3)x(1, 0, [1], 12)</td> <th>  Log Likelihood     </th> <td>-240.063</td>\n",
       "</tr>\n",
       "<tr>\n",
       "  <th>Date:</th>                    <td>Tue, 14 May 2024</td>         <th>  AIC                </th>  <td>492.126</td>\n",
       "</tr>\n",
       "<tr>\n",
       "  <th>Time:</th>                        <td>15:24:39</td>             <th>  BIC                </th>  <td>520.004</td>\n",
       "</tr>\n",
       "<tr>\n",
       "  <th>Sample:</th>                          <td>0</td>                <th>  HQIC               </th>  <td>502.855</td>\n",
       "</tr>\n",
       "<tr>\n",
       "  <th></th>                              <td> - 771</td>              <th>                     </th>     <td> </td>   \n",
       "</tr>\n",
       "<tr>\n",
       "  <th>Covariance Type:</th>                <td>opg</td>               <th>                     </th>     <td> </td>   \n",
       "</tr>\n",
       "</table>\n",
       "<table class=\"simpletable\">\n",
       "<tr>\n",
       "      <td></td>        <th>coef</th>     <th>std err</th>      <th>z</th>      <th>P>|z|</th>  <th>[0.025</th>    <th>0.975]</th>  \n",
       "</tr>\n",
       "<tr>\n",
       "  <th>ma.L1</th>    <td>   -0.3187</td> <td>    0.038</td> <td>   -8.465</td> <td> 0.000</td> <td>   -0.392</td> <td>   -0.245</td>\n",
       "</tr>\n",
       "<tr>\n",
       "  <th>ma.L2</th>    <td>   -0.0948</td> <td>    0.025</td> <td>   -3.739</td> <td> 0.000</td> <td>   -0.144</td> <td>   -0.045</td>\n",
       "</tr>\n",
       "<tr>\n",
       "  <th>ma.L3</th>    <td>   -0.0842</td> <td>    0.023</td> <td>   -3.677</td> <td> 0.000</td> <td>   -0.129</td> <td>   -0.039</td>\n",
       "</tr>\n",
       "<tr>\n",
       "  <th>ar.S.L12</th> <td>    0.9996</td> <td>    0.000</td> <td> 2915.258</td> <td> 0.000</td> <td>    0.999</td> <td>    1.000</td>\n",
       "</tr>\n",
       "<tr>\n",
       "  <th>ma.S.L12</th> <td>   -0.8678</td> <td>    0.020</td> <td>  -42.778</td> <td> 0.000</td> <td>   -0.908</td> <td>   -0.828</td>\n",
       "</tr>\n",
       "<tr>\n",
       "  <th>sigma2</th>   <td>    0.1018</td> <td>    0.004</td> <td>   24.754</td> <td> 0.000</td> <td>    0.094</td> <td>    0.110</td>\n",
       "</tr>\n",
       "</table>\n",
       "<table class=\"simpletable\">\n",
       "<tr>\n",
       "  <th>Ljung-Box (L1) (Q):</th>     <td>0.08</td> <th>  Jarque-Bera (JB):  </th> <td>199.71</td>\n",
       "</tr>\n",
       "<tr>\n",
       "  <th>Prob(Q):</th>                <td>0.78</td> <th>  Prob(JB):          </th>  <td>0.00</td> \n",
       "</tr>\n",
       "<tr>\n",
       "  <th>Heteroskedasticity (H):</th> <td>1.11</td> <th>  Skew:              </th>  <td>0.34</td> \n",
       "</tr>\n",
       "<tr>\n",
       "  <th>Prob(H) (two-sided):</th>    <td>0.39</td> <th>  Kurtosis:          </th>  <td>5.40</td> \n",
       "</tr>\n",
       "</table><br/><br/>Warnings:<br/>[1] Covariance matrix calculated using the outer product of gradients (complex-step)."
      ],
      "text/latex": [
       "\\begin{center}\n",
       "\\begin{tabular}{lclc}\n",
       "\\toprule\n",
       "\\textbf{Dep. Variable:}          &                y                 & \\textbf{  No. Observations:  } &    771      \\\\\n",
       "\\textbf{Model:}                  & SARIMAX(0, 1, 3)x(1, 0, [1], 12) & \\textbf{  Log Likelihood     } &  -240.063   \\\\\n",
       "\\textbf{Date:}                   &         Tue, 14 May 2024         & \\textbf{  AIC                } &  492.126    \\\\\n",
       "\\textbf{Time:}                   &             15:24:39             & \\textbf{  BIC                } &  520.004    \\\\\n",
       "\\textbf{Sample:}                 &                0                 & \\textbf{  HQIC               } &  502.855    \\\\\n",
       "\\textbf{}                        &               - 771              & \\textbf{                     } &             \\\\\n",
       "\\textbf{Covariance Type:}        &               opg                & \\textbf{                     } &             \\\\\n",
       "\\bottomrule\n",
       "\\end{tabular}\n",
       "\\begin{tabular}{lcccccc}\n",
       "                  & \\textbf{coef} & \\textbf{std err} & \\textbf{z} & \\textbf{P$> |$z$|$} & \\textbf{[0.025} & \\textbf{0.975]}  \\\\\n",
       "\\midrule\n",
       "\\textbf{ma.L1}    &      -0.3187  &        0.038     &    -8.465  &         0.000        &       -0.392    &       -0.245     \\\\\n",
       "\\textbf{ma.L2}    &      -0.0948  &        0.025     &    -3.739  &         0.000        &       -0.144    &       -0.045     \\\\\n",
       "\\textbf{ma.L3}    &      -0.0842  &        0.023     &    -3.677  &         0.000        &       -0.129    &       -0.039     \\\\\n",
       "\\textbf{ar.S.L12} &       0.9996  &        0.000     &  2915.258  &         0.000        &        0.999    &        1.000     \\\\\n",
       "\\textbf{ma.S.L12} &      -0.8678  &        0.020     &   -42.778  &         0.000        &       -0.908    &       -0.828     \\\\\n",
       "\\textbf{sigma2}   &       0.1018  &        0.004     &    24.754  &         0.000        &        0.094    &        0.110     \\\\\n",
       "\\bottomrule\n",
       "\\end{tabular}\n",
       "\\begin{tabular}{lclc}\n",
       "\\textbf{Ljung-Box (L1) (Q):}     & 0.08 & \\textbf{  Jarque-Bera (JB):  } & 199.71  \\\\\n",
       "\\textbf{Prob(Q):}                & 0.78 & \\textbf{  Prob(JB):          } &  0.00   \\\\\n",
       "\\textbf{Heteroskedasticity (H):} & 1.11 & \\textbf{  Skew:              } &  0.34   \\\\\n",
       "\\textbf{Prob(H) (two-sided):}    & 0.39 & \\textbf{  Kurtosis:          } &  5.40   \\\\\n",
       "\\bottomrule\n",
       "\\end{tabular}\n",
       "%\\caption{SARIMAX Results}\n",
       "\\end{center}\n",
       "\n",
       "Warnings: \\newline\n",
       " [1] Covariance matrix calculated using the outer product of gradients (complex-step)."
      ],
      "text/plain": [
       "<class 'statsmodels.iolib.summary.Summary'>\n",
       "\"\"\"\n",
       "                                      SARIMAX Results                                       \n",
       "============================================================================================\n",
       "Dep. Variable:                                    y   No. Observations:                  771\n",
       "Model:             SARIMAX(0, 1, 3)x(1, 0, [1], 12)   Log Likelihood                -240.063\n",
       "Date:                              Tue, 14 May 2024   AIC                            492.126\n",
       "Time:                                      15:24:39   BIC                            520.004\n",
       "Sample:                                           0   HQIC                           502.855\n",
       "                                              - 771                                         \n",
       "Covariance Type:                                opg                                         \n",
       "==============================================================================\n",
       "                 coef    std err          z      P>|z|      [0.025      0.975]\n",
       "------------------------------------------------------------------------------\n",
       "ma.L1         -0.3187      0.038     -8.465      0.000      -0.392      -0.245\n",
       "ma.L2         -0.0948      0.025     -3.739      0.000      -0.144      -0.045\n",
       "ma.L3         -0.0842      0.023     -3.677      0.000      -0.129      -0.039\n",
       "ar.S.L12       0.9996      0.000   2915.258      0.000       0.999       1.000\n",
       "ma.S.L12      -0.8678      0.020    -42.778      0.000      -0.908      -0.828\n",
       "sigma2         0.1018      0.004     24.754      0.000       0.094       0.110\n",
       "===================================================================================\n",
       "Ljung-Box (L1) (Q):                   0.08   Jarque-Bera (JB):               199.71\n",
       "Prob(Q):                              0.78   Prob(JB):                         0.00\n",
       "Heteroskedasticity (H):               1.11   Skew:                             0.34\n",
       "Prob(H) (two-sided):                  0.39   Kurtosis:                         5.40\n",
       "===================================================================================\n",
       "\n",
       "Warnings:\n",
       "[1] Covariance matrix calculated using the outer product of gradients (complex-step).\n",
       "\"\"\""
      ]
     },
     "execution_count": 37,
     "metadata": {},
     "output_type": "execute_result"
    }
   ],
   "source": [
    "co2_train= train['CO2'].values\n",
    "auto_arima(co2_train, seasonal=True, m=12, trace=True).summary()"
   ]
  },
  {
   "cell_type": "code",
   "execution_count": 38,
   "id": "c74b913b3ccd4012",
   "metadata": {
    "ExecuteTime": {
     "end_time": "2024-05-14T13:24:42.531711Z",
     "start_time": "2024-05-14T13:24:40.358444Z"
    },
    "collapsed": false,
    "jupyter": {
     "outputs_hidden": false
    }
   },
   "outputs": [
    {
     "data": {
      "text/html": [
       "<table class=\"simpletable\">\n",
       "<caption>SARIMAX Results</caption>\n",
       "<tr>\n",
       "  <th>Dep. Variable:</th>                   <td>y</td>                <th>  No. Observations:  </th>    <td>771</td>  \n",
       "</tr>\n",
       "<tr>\n",
       "  <th>Model:</th>           <td>SARIMAX(0, 1, 3)x(1, 0, [1], 12)</td> <th>  Log Likelihood     </th> <td>-240.063</td>\n",
       "</tr>\n",
       "<tr>\n",
       "  <th>Date:</th>                    <td>Tue, 14 May 2024</td>         <th>  AIC                </th>  <td>492.126</td>\n",
       "</tr>\n",
       "<tr>\n",
       "  <th>Time:</th>                        <td>15:24:42</td>             <th>  BIC                </th>  <td>520.004</td>\n",
       "</tr>\n",
       "<tr>\n",
       "  <th>Sample:</th>                          <td>0</td>                <th>  HQIC               </th>  <td>502.855</td>\n",
       "</tr>\n",
       "<tr>\n",
       "  <th></th>                              <td> - 771</td>              <th>                     </th>     <td> </td>   \n",
       "</tr>\n",
       "<tr>\n",
       "  <th>Covariance Type:</th>                <td>opg</td>               <th>                     </th>     <td> </td>   \n",
       "</tr>\n",
       "</table>\n",
       "<table class=\"simpletable\">\n",
       "<tr>\n",
       "      <td></td>        <th>coef</th>     <th>std err</th>      <th>z</th>      <th>P>|z|</th>  <th>[0.025</th>    <th>0.975]</th>  \n",
       "</tr>\n",
       "<tr>\n",
       "  <th>ma.L1</th>    <td>   -0.3187</td> <td>    0.038</td> <td>   -8.465</td> <td> 0.000</td> <td>   -0.392</td> <td>   -0.245</td>\n",
       "</tr>\n",
       "<tr>\n",
       "  <th>ma.L2</th>    <td>   -0.0948</td> <td>    0.025</td> <td>   -3.739</td> <td> 0.000</td> <td>   -0.144</td> <td>   -0.045</td>\n",
       "</tr>\n",
       "<tr>\n",
       "  <th>ma.L3</th>    <td>   -0.0842</td> <td>    0.023</td> <td>   -3.677</td> <td> 0.000</td> <td>   -0.129</td> <td>   -0.039</td>\n",
       "</tr>\n",
       "<tr>\n",
       "  <th>ar.S.L12</th> <td>    0.9996</td> <td>    0.000</td> <td> 2915.258</td> <td> 0.000</td> <td>    0.999</td> <td>    1.000</td>\n",
       "</tr>\n",
       "<tr>\n",
       "  <th>ma.S.L12</th> <td>   -0.8678</td> <td>    0.020</td> <td>  -42.778</td> <td> 0.000</td> <td>   -0.908</td> <td>   -0.828</td>\n",
       "</tr>\n",
       "<tr>\n",
       "  <th>sigma2</th>   <td>    0.1018</td> <td>    0.004</td> <td>   24.754</td> <td> 0.000</td> <td>    0.094</td> <td>    0.110</td>\n",
       "</tr>\n",
       "</table>\n",
       "<table class=\"simpletable\">\n",
       "<tr>\n",
       "  <th>Ljung-Box (L1) (Q):</th>     <td>0.08</td> <th>  Jarque-Bera (JB):  </th> <td>199.71</td>\n",
       "</tr>\n",
       "<tr>\n",
       "  <th>Prob(Q):</th>                <td>0.78</td> <th>  Prob(JB):          </th>  <td>0.00</td> \n",
       "</tr>\n",
       "<tr>\n",
       "  <th>Heteroskedasticity (H):</th> <td>1.11</td> <th>  Skew:              </th>  <td>0.34</td> \n",
       "</tr>\n",
       "<tr>\n",
       "  <th>Prob(H) (two-sided):</th>    <td>0.39</td> <th>  Kurtosis:          </th>  <td>5.40</td> \n",
       "</tr>\n",
       "</table><br/><br/>Warnings:<br/>[1] Covariance matrix calculated using the outer product of gradients (complex-step)."
      ],
      "text/latex": [
       "\\begin{center}\n",
       "\\begin{tabular}{lclc}\n",
       "\\toprule\n",
       "\\textbf{Dep. Variable:}          &                y                 & \\textbf{  No. Observations:  } &    771      \\\\\n",
       "\\textbf{Model:}                  & SARIMAX(0, 1, 3)x(1, 0, [1], 12) & \\textbf{  Log Likelihood     } &  -240.063   \\\\\n",
       "\\textbf{Date:}                   &         Tue, 14 May 2024         & \\textbf{  AIC                } &  492.126    \\\\\n",
       "\\textbf{Time:}                   &             15:24:42             & \\textbf{  BIC                } &  520.004    \\\\\n",
       "\\textbf{Sample:}                 &                0                 & \\textbf{  HQIC               } &  502.855    \\\\\n",
       "\\textbf{}                        &               - 771              & \\textbf{                     } &             \\\\\n",
       "\\textbf{Covariance Type:}        &               opg                & \\textbf{                     } &             \\\\\n",
       "\\bottomrule\n",
       "\\end{tabular}\n",
       "\\begin{tabular}{lcccccc}\n",
       "                  & \\textbf{coef} & \\textbf{std err} & \\textbf{z} & \\textbf{P$> |$z$|$} & \\textbf{[0.025} & \\textbf{0.975]}  \\\\\n",
       "\\midrule\n",
       "\\textbf{ma.L1}    &      -0.3187  &        0.038     &    -8.465  &         0.000        &       -0.392    &       -0.245     \\\\\n",
       "\\textbf{ma.L2}    &      -0.0948  &        0.025     &    -3.739  &         0.000        &       -0.144    &       -0.045     \\\\\n",
       "\\textbf{ma.L3}    &      -0.0842  &        0.023     &    -3.677  &         0.000        &       -0.129    &       -0.039     \\\\\n",
       "\\textbf{ar.S.L12} &       0.9996  &        0.000     &  2915.258  &         0.000        &        0.999    &        1.000     \\\\\n",
       "\\textbf{ma.S.L12} &      -0.8678  &        0.020     &   -42.778  &         0.000        &       -0.908    &       -0.828     \\\\\n",
       "\\textbf{sigma2}   &       0.1018  &        0.004     &    24.754  &         0.000        &        0.094    &        0.110     \\\\\n",
       "\\bottomrule\n",
       "\\end{tabular}\n",
       "\\begin{tabular}{lclc}\n",
       "\\textbf{Ljung-Box (L1) (Q):}     & 0.08 & \\textbf{  Jarque-Bera (JB):  } & 199.71  \\\\\n",
       "\\textbf{Prob(Q):}                & 0.78 & \\textbf{  Prob(JB):          } &  0.00   \\\\\n",
       "\\textbf{Heteroskedasticity (H):} & 1.11 & \\textbf{  Skew:              } &  0.34   \\\\\n",
       "\\textbf{Prob(H) (two-sided):}    & 0.39 & \\textbf{  Kurtosis:          } &  5.40   \\\\\n",
       "\\bottomrule\n",
       "\\end{tabular}\n",
       "%\\caption{SARIMAX Results}\n",
       "\\end{center}\n",
       "\n",
       "Warnings: \\newline\n",
       " [1] Covariance matrix calculated using the outer product of gradients (complex-step)."
      ],
      "text/plain": [
       "<class 'statsmodels.iolib.summary.Summary'>\n",
       "\"\"\"\n",
       "                                      SARIMAX Results                                       \n",
       "============================================================================================\n",
       "Dep. Variable:                                    y   No. Observations:                  771\n",
       "Model:             SARIMAX(0, 1, 3)x(1, 0, [1], 12)   Log Likelihood                -240.063\n",
       "Date:                              Tue, 14 May 2024   AIC                            492.126\n",
       "Time:                                      15:24:42   BIC                            520.004\n",
       "Sample:                                           0   HQIC                           502.855\n",
       "                                              - 771                                         \n",
       "Covariance Type:                                opg                                         \n",
       "==============================================================================\n",
       "                 coef    std err          z      P>|z|      [0.025      0.975]\n",
       "------------------------------------------------------------------------------\n",
       "ma.L1         -0.3187      0.038     -8.465      0.000      -0.392      -0.245\n",
       "ma.L2         -0.0948      0.025     -3.739      0.000      -0.144      -0.045\n",
       "ma.L3         -0.0842      0.023     -3.677      0.000      -0.129      -0.039\n",
       "ar.S.L12       0.9996      0.000   2915.258      0.000       0.999       1.000\n",
       "ma.S.L12      -0.8678      0.020    -42.778      0.000      -0.908      -0.828\n",
       "sigma2         0.1018      0.004     24.754      0.000       0.094       0.110\n",
       "===================================================================================\n",
       "Ljung-Box (L1) (Q):                   0.08   Jarque-Bera (JB):               199.71\n",
       "Prob(Q):                              0.78   Prob(JB):                         0.00\n",
       "Heteroskedasticity (H):               1.11   Skew:                             0.34\n",
       "Prob(H) (two-sided):                  0.39   Kurtosis:                         5.40\n",
       "===================================================================================\n",
       "\n",
       "Warnings:\n",
       "[1] Covariance matrix calculated using the outer product of gradients (complex-step).\n",
       "\"\"\""
      ]
     },
     "execution_count": 38,
     "metadata": {},
     "output_type": "execute_result"
    }
   ],
   "source": [
    "model = SARIMAX(co2_train, order=(0,1,3), seasonal_order=(1,0,1,12))\n",
    "fit_SARIMA = model.fit()\n",
    "fit_SARIMA.summary()"
   ]
  },
  {
   "cell_type": "code",
   "execution_count": 39,
   "id": "3e2db044fc39cd1",
   "metadata": {
    "ExecuteTime": {
     "end_time": "2024-05-14T13:24:43.926208Z",
     "start_time": "2024-05-14T13:24:42.532706Z"
    },
    "collapsed": false,
    "jupyter": {
     "outputs_hidden": false
    }
   },
   "outputs": [
    {
     "data": {
      "image/png": "[encoded data removed]",
      "text/plain": [
       "<Figure size 640x480 with 4 Axes>"
      ]
     },
     "metadata": {},
     "output_type": "display_data"
    }
   ],
   "source": [
    "fit_SARIMA.plot_diagnostics();"
   ]
  },
  {
   "cell_type": "code",
   "execution_count": 40,
   "id": "3c285a69e0758fec",
   "metadata": {
    "ExecuteTime": {
     "end_time": "2024-05-14T13:24:43.963255Z",
     "start_time": "2024-05-14T13:24:43.927203Z"
    },
    "collapsed": false,
    "jupyter": {
     "outputs_hidden": false
    }
   },
   "outputs": [],
   "source": [
    "start =len(train)\n",
    "end = len(train)+ len(test)-1\n",
    "prediction_SARMIA = fit_SARIMA.predict(start=start, end= end)"
   ]
  },
  {
   "cell_type": "code",
   "execution_count": 41,
   "id": "eea42aa1f299b273",
   "metadata": {
    "ExecuteTime": {
     "end_time": "2024-05-14T13:24:43.990240Z",
     "start_time": "2024-05-14T13:24:43.983226Z"
    },
    "collapsed": false,
    "jupyter": {
     "outputs_hidden": false
    }
   },
   "outputs": [],
   "source": [
    "df_comp['SARIMA']= prediction_SARMIA"
   ]
  },
  {
   "cell_type": "code",
   "execution_count": 42,
   "id": "62388d7b3de11b84",
   "metadata": {
    "ExecuteTime": {
     "end_time": "2024-05-14T13:24:44.261996Z",
     "start_time": "2024-05-14T13:24:43.990755Z"
    },
    "collapsed": false,
    "jupyter": {
     "outputs_hidden": false
    }
   },
   "outputs": [
    {
     "data": {
      "text/plain": [
       "<Axes: >"
      ]
     },
     "execution_count": 42,
     "metadata": {},
     "output_type": "execute_result"
    },
    {
     "data": {
      "image/png": "[encoded data removed]",
      "text/plain": [
       "<Figure size 640x480 with 1 Axes>"
      ]
     },
     "metadata": {},
     "output_type": "display_data"
    }
   ],
   "source": [
    "df_comp.plot()"
   ]
  },
  {
   "cell_type": "code",
   "execution_count": 43,
   "id": "76f9ca20709e79fd",
   "metadata": {
    "ExecuteTime": {
     "end_time": "2024-05-14T13:24:44.321940Z",
     "start_time": "2024-05-14T13:24:44.262992Z"
    },
    "collapsed": false,
    "jupyter": {
     "outputs_hidden": false
    }
   },
   "outputs": [
    {
     "data": {
      "text/plain": [
       "0.2762313253411792"
      ]
     },
     "execution_count": 43,
     "metadata": {},
     "output_type": "execute_result"
    }
   ],
   "source": [
    "mean_absolute_percentage_error(df_comp['CO2'],df_comp['SARIMA'])*100"
   ]
  },
  {
   "cell_type": "code",
   "execution_count": 43,
   "id": "c402d71cbefbf3b",
   "metadata": {
    "ExecuteTime": {
     "end_time": "2024-05-14T13:24:44.326252Z",
     "start_time": "2024-05-14T13:24:44.322935Z"
    },
    "collapsed": false,
    "jupyter": {
     "outputs_hidden": false
    }
   },
   "outputs": [],
   "source": []
  }
 ],
 "metadata": {
  "kernelspec": {
   "display_name": "Python 3 (ipykernel)",
   "language": "python",
   "name": "python3"
  },
  "language_info": {
   "codemirror_mode": {
    "name": "ipython",
    "version": 3
   },
   "file_extension": ".py",
   "mimetype": "text/x-python",
   "name": "python",
   "nbconvert_exporter": "python",
   "pygments_lexer": "ipython3",
   "version": "3.12.3"
  }
 },
 "nbformat": 4,
 "nbformat_minor": 5
}
